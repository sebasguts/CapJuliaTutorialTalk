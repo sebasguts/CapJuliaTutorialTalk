{
 "cells": [
  {
   "cell_type": "markdown",
   "metadata": {},
   "source": [
    "## Using CAP in Julia\n",
    "Sebastian Gutsche, Sebastian Posur\n",
    "\n",
    "This notebook demonstrates how to use CAP from julia, via GAP.jl.\n",
    "\n",
    "We start by initializing GAP"
   ]
  },
  {
   "cell_type": "code",
   "execution_count": 1,
   "metadata": {},
   "outputs": [
    {
     "name": "stdout",
     "output_type": "stream",
     "text": [
      "Adding path /home/sebastian/Software/GAPJulia/gap/.libs to DL_LOAD_PATH\n",
      " ┌───────┐   GAP 4.dev of today\n",
      " │  GAP  │   https://www.gap-system.org\n",
      " └───────┘   Architecture: x86_64-pc-linux-gnu-julia64-kv6\n",
      " Configuration:  gmp 6.1.2, Julia GC, Julia 1.1.0, readline\n",
      " Loading the library and packages ...\n",
      " Packages:   GAPDoc 1.6.2.dev, PrimGrp 3.3.1, SmallGrp 1.3, TransGrp 2.0.4\n",
      " Try '??help' for help. See also '?copyright', '?cite' and '?authors'\n"
     ]
    }
   ],
   "source": [
    "using GAP"
   ]
  },
  {
   "cell_type": "markdown",
   "metadata": {},
   "source": [
    "In this notebook, we will learn how to use CAP as a computational tool from Julia"
   ]
  },
  {
   "cell_type": "markdown",
   "metadata": {},
   "source": [
    "## Abelian categories"
   ]
  },
  {
   "cell_type": "markdown",
   "metadata": {},
   "source": [
    "### Category theory in computer algebra: first steps in CAP"
   ]
  },
  {
   "cell_type": "markdown",
   "metadata": {},
   "source": [
    "## Introduction\n",
    "\n",
    "**Categorical abstraction** is a powerful **computational tool**.\n",
    "\n",
    "Category theory gains its computational power from three key observations:\n",
    "\n",
    "1. equivalences of categories can transform otherwise inaccessible mathematical objects into computationally easily graspable entities,\n",
    "\n",
    "2. category theory defines a *language* that respects the isomorphism-invariant structures and properties of mathematical objects, an idea that justifies the treatment of equivalent categories as \"being equal from a categorical point of view\",\n",
    "\n",
    "3. lots of mathematicians nowadays use category theory as a widely accepted language to express their ideas, and thus, constructive category theory has a great range of applications.\n",
    "\n",
    "In this worksheet, we will explore \n",
    "\n",
    "- the category of finite dimensional vector spaces $\\mathrm{vec}_k$ over a computable field $k$,\n",
    "- the category of finitely presented (left) modules $\\mathrm{mod}_R$ over a computable ring $R$.\n",
    "\n",
    "We will do this by giving **computational models** for these categories,\n",
    "i.e., we will construct categories $\\mathrm{mat}_k$ and $\\mathrm{fpres}_R$\n",
    "for which we have\n",
    "\n",
    "$$\\mathrm{vec}_k \\simeq \\mathrm{mat}_k$$\n",
    "\n",
    "and\n",
    "\n",
    "$$\\mathrm{mod}_R \\simeq \\mathrm{fpres}_R\\text{,}$$\n",
    "\n",
    "but with the advantage that these categories will be much easier to work with from a computational point of view."
   ]
  },
  {
   "cell_type": "markdown",
   "metadata": {},
   "source": [
    "## Computing in abelian categories"
   ]
  },
  {
   "cell_type": "markdown",
   "metadata": {},
   "source": [
    "The categories $\\mathrm{vec}_k$ and $\\mathrm{mod}_R$ are both\n",
    "examples of **abelian categories**.\n",
    "\n",
    "*Remark for those who already know what an abelian category is:\n",
    "the fact that $\\mathrm{mod}_R$ (which is the\n",
    "category of *finitely presented* modules and not to be confused with\n",
    "the category of *all* $R$-modules) is an abelian category relies\n",
    "on the ring $R$ being coherent, a property that will be implied\n",
    "by our notion of a computable ring.*\n",
    "\n",
    "The computational aspects of the *language of abelian categories*\n",
    "will be our guide in this section."
   ]
  },
  {
   "cell_type": "markdown",
   "metadata": {},
   "source": [
    "### Finite dimensional vector spaces"
   ]
  },
  {
   "cell_type": "markdown",
   "metadata": {},
   "source": [
    "Our computational model $\\mathrm{mat}_k$ for finite dimensional vector spaces,\n",
    "which we call the **matrix category** of $k$, is part of the following $\\textsf{GAP}$-package:"
   ]
  },
  {
   "cell_type": "code",
   "execution_count": 2,
   "metadata": {},
   "outputs": [
    {
     "name": "stderr",
     "output_type": "stream",
     "text": [
      "Syntax error: Name used for two locals in /home/sebastian/Software/GAPJulia/ga\\\n",
      "p/pkg/Polycyclic/gap/basic/pcppcps.gi:124\n",
      "    local coll, rels, n, c, ind, g, d, todo, val, j, f, h, e, a, d, k, b, u, t\\\n",
      ";\n",
      "                                                                 ^\n",
      "Syntax warning: Unbound global variable in /home/sebastian/Software/GAPJulia/g\\\n",
      "ap/pkg/Polycyclic/gap/basic/pcpgrps.gi:144\n",
      "    return SubgroupByIgs( G, AddIgsToIgs( fac, nor ) );\n",
      "                             ^^^^^^^^^^^\n",
      "Syntax warning: Unbound global variable in /home/sebastian/Software/GAPJulia/g\\\n",
      "ap/pkg/Polycyclic/gap/basic/pcpsers.gi:133\n",
      "    cycl := CyclicDecomposition( pcp );\n",
      "            ^^^^^^^^^^^^^^^^^^^\n",
      "Syntax warning: Unbound global variable in /home/sebastian/Software/GAPJulia/g\\\n",
      "ap/pkg/Polycyclic/gap/basic/pcpsers.gi:441\n",
      "    A   := SubgroupByIgs( G, AddIgsToIgs(gens, NumeratorOfPcp( pcps[1] )));\n",
      "                             ^^^^^^^^^^^\n",
      "Syntax warning: Unbound global variable in /home/sebastian/Software/GAPJulia/g\\\n",
      "ap/pkg/Polycyclic/gap/basic/pcpsers.gi:444\n",
      "        B := SubgroupByIgs( G, AddIgsToIgs(gens,DenominatorOfPcp(pcp)));\n",
      "                               ^^^^^^^^^^^\n",
      "Syntax warning: Unbound global variable in /home/sebastian/Software/GAPJulia/g\\\n",
      "ap/pkg/Polycyclic/gap/basic/pcpsers.gi:514\n",
      "        B := AddIgsToIgs(List( gens, x -> x^p ), DenominatorOfPcp(pcp));\n",
      "             ^^^^^^^^^^^\n",
      "Syntax warning: Unbound global variable in /home/sebastian/Software/GAPJulia/g\\\n",
      "ap/pkg/Polycyclic/gap/basic/pcpfact.gi:16\n",
      "    F := PcpGroupByPcp( Pcp( H, N ) );\n",
      "         ^^^^^^^^^^^^^\n",
      "Syntax warning: Unbound global variable in /home/sebastian/Software/GAPJulia/g\\\n",
      "ap/pkg/Polycyclic/gap/basic/pcpfact.gi:35\n",
      "    F := PcpGroupByPcp( pcp );\n",
      "         ^^^^^^^^^^^^^\n",
      "Syntax warning: Unbound global variable in /home/sebastian/Software/GAPJulia/g\\\n",
      "ap/pkg/Polycyclic/gap/cohom/cohom.gi:245\n",
      "    if not (IsAbelian( PcpGroupByPcp( A.normal ) )\n",
      "                       ^^^^^^^^^^^^^\n",
      "Syntax warning: Unbound global variable in /home/sebastian/Software/GAPJulia/g\\\n",
      "ap/pkg/Polycyclic/gap/cohom/onecohom.gi:195\n",
      "    all  := AddIgsToIgs( pcpK, DenominatorOfPcp( A.normal ) );\n",
      "            ^^^^^^^^^^^\n",
      "Syntax warning: Unbound global variable in /home/sebastian/Software/GAPJulia/g\\\n",
      "ap/pkg/Polycyclic/gap/cohom/grpcom.gi:207\n",
      "        gens := AddIgsToIgs( cent, Igs( K ) );\n",
      "                ^^^^^^^^^^^\n",
      "Syntax warning: Unbound global variable in /home/sebastian/Software/GAPJulia/g\\\n",
      "ap/pkg/Polycyclic/gap/cohom/grpcom.gi:216\n",
      "                gens := AddIgsToIgs( [g], gens );\n",
      "                        ^^^^^^^^^^^\n",
      "Syntax warning: Unbound global variable in /home/sebastian/Software/GAPJulia/g\\\n",
      "ap/pkg/Polycyclic/gap/cohom/grpcom.gi:218\n",
      "                gens := AddIgsToIgs( [g], gens );\n",
      "                        ^^^^^^^^^^^\n",
      "Syntax warning: Unbound global variable in /home/sebastian/Software/GAPJulia/g\\\n",
      "ap/pkg/Polycyclic/gap/action/orbstab.gi:131\n",
      "    gens := AddIgsToIgs( gens, stabK.stabl );\n",
      "            ^^^^^^^^^^^\n",
      "Syntax warning: Unbound global variable in /home/sebastian/Software/GAPJulia/g\\\n",
      "ap/pkg/Polycyclic/gap/action/orbstab.gi:559\n",
      "    stab := AddIgsToIgs( stab.stab, Igs(T) );\n",
      "            ^^^^^^^^^^^\n",
      "Syntax warning: Unbound global variable in /home/sebastian/Software/GAPJulia/g\\\n",
      "ap/pkg/Polycyclic/gap/action/orbstab.gi:644\n",
      "    t := AddIgsToIgs( os.stab, Igs(T) );\n",
      "         ^^^^^^^^^^^\n",
      "Syntax warning: Unbound global variable in /home/sebastian/Software/GAPJulia/g\\\n",
      "ap/pkg/Polycyclic/gap/action/orbnorm.gi:529\n",
      "    N := AddIgsToIgs( N.stab, Igs(T) );\n",
      "         ^^^^^^^^^^^\n",
      "Syntax warning: Unbound global variable in /home/sebastian/Software/GAPJulia/g\\\n",
      "ap/pkg/Polycyclic/gap/action/orbnorm.gi:615\n",
      "    t := AddIgsToIgs( os.stab, Igs(T) );\n",
      "         ^^^^^^^^^^^\n",
      "Syntax warning: Unbound global variable in /home/sebastian/Software/GAPJulia/g\\\n",
      "ap/pkg/Polycyclic/gap/pcpgrp/torsion.gi:54\n",
      "        T := AddIgsToIgs( GeneratorsOfPcp( efa[m] ), T );\n",
      "             ^^^^^^^^^^^\n",
      "Syntax warning: Unbound global variable in /home/sebastian/Software/GAPJulia/g\\\n",
      "ap/pkg/Polycyclic/gap/pcpgrp/torsion.gi:75\n",
      "                H := SubgroupByIgs( G, AddIgsToIgs( [g], Igs( N ) ) );\n",
      "                                       ^^^^^^^^^^^\n",
      "Syntax warning: Unbound global variable in /home/sebastian/Software/GAPJulia/g\\\n",
      "ap/pkg/Polycyclic/gap/pcpgrp/torsion.gi:133\n",
      "        T := AddIgsToIgs( GeneratorsOfPcp( efa[m] ), T );\n",
      "             ^^^^^^^^^^^\n",
      "Syntax warning: Unbound global variable in /home/sebastian/Software/GAPJulia/g\\\n",
      "ap/pkg/Polycyclic/gap/pcpgrp/torsion.gi:154\n",
      "                H := SubgroupByIgs( G, AddIgsToIgs( [g], Igs(N) ));\n",
      "                                       ^^^^^^^^^^^\n",
      "Syntax warning: Unbound global variable in /home/sebastian/Software/GAPJulia/g\\\n",
      "ap/pkg/Polycyclic/gap/pcpgrp/torsion.gi:285\n",
      "    gens := AddIgsToIgs( gens, DenominatorOfPcp( pcp ) );\n",
      "            ^^^^^^^^^^^\n",
      "Syntax warning: Unbound global variable in /home/sebastian/Software/GAPJulia/g\\\n",
      "ap/pkg/Polycyclic/gap/pcpgrp/maxsub.gi:24\n",
      "        new := AddIgsToIgs( new, DenominatorOfPcp( pcp ) );\n",
      "               ^^^^^^^^^^^\n",
      "Syntax warning: Unbound global variable in /home/sebastian/Software/GAPJulia/g\\\n",
      "ap/pkg/Polycyclic/gap/pcpgrp/findex.gi:83\n",
      "            exp[i] := AddIgsToIgs( base, denom );\n",
      "                      ^^^^^^^^^^^\n",
      "Syntax warning: Unbound global variable in /home/sebastian/Software/GAPJulia/g\\\n",
      "ap/pkg/Polycyclic/gap/pcpgrp/fitting.gi:41\n",
      "            gens := AddIgsToIgs( gens, DenominatorOfPcp( pcps[i] ) );\n",
      "                    ^^^^^^^^^^^\n",
      "Syntax warning: Unbound global variable in /home/sebastian/Software/GAPJulia/g\\\n",
      "ap/pkg/Polycyclic/gap/pcpgrp/centcon.gi:103\n",
      "            stb := AddIgsToIgs( stb, Igs(N) );\n",
      "                   ^^^^^^^^^^^\n",
      "Syntax warning: Unbound global variable in /home/sebastian/Software/GAPJulia/g\\\n",
      "ap/pkg/Polycyclic/gap/pcpgrp/centcon.gi:116\n",
      "                stb := AddIgsToIgs( stb.stab, Igs(M) );\n",
      "                       ^^^^^^^^^^^\n",
      "Syntax warning: Unbound global variable in /home/sebastian/Software/GAPJulia/g\\\n",
      "ap/pkg/Polycyclic/gap/pcpgrp/centcon.gi:271\n",
      "            stb := AddIgsToIgs( stb.stab, Igs(N) );\n",
      "                   ^^^^^^^^^^^\n",
      "Syntax warning: Unbound global variable in /home/sebastian/Software/GAPJulia/g\\\n",
      "ap/pkg/Polycyclic/gap/pcpgrp/centcon.gi:290\n",
      "            stb := AddIgsToIgs( stb.stab, Igs(M) );\n",
      "                   ^^^^^^^^^^^\n",
      "Syntax warning: Unbound global variable in /home/sebastian/Software/GAPJulia/g\\\n",
      "ap/pkg/Polycyclic/gap/pcpgrp/normcon.gi:55\n",
      "    b := AddIgsToIgs( Igs(H), DenominatorOfPcp( CR.normal ) );\n",
      "         ^^^^^^^^^^^\n",
      "Syntax warning: Unbound global variable in /home/sebastian/Software/GAPJulia/g\\\n",
      "ap/pkg/Polycyclic/gap/pcpgrp/normcon.gi:57\n",
      "    b := AddIgsToIgs( r, b );\n",
      "         ^^^^^^^^^^^\n",
      "Syntax warning: Unbound global variable in /home/sebastian/Software/GAPJulia/g\\\n",
      "ap/pkg/Polycyclic/gap/pcpgrp/normcon.gi:98\n",
      "        stb := AddIgsToIgs( stb.stab, AsList(pcp) );\n",
      "               ^^^^^^^^^^^\n"
     ]
    }
   ],
   "source": [
    "try\n",
    "    GAP.LoadPackageAndExposeGlobals( \"LinearAlgebraForCAP\", \"CAP\", all_globals = true )\n",
    "catch(e)\n",
    "    GAP.LoadPackageAndExposeGlobals( \"LinearAlgebraForCAP\", \"CAP\", all_globals = true )\n",
    "end"
   ]
  },
  {
   "cell_type": "markdown",
   "metadata": {},
   "source": [
    "First, we need to create a field. For example, we can create the rationals $\\mathbb{Q}$:"
   ]
  },
  {
   "cell_type": "code",
   "execution_count": 3,
   "metadata": {},
   "outputs": [
    {
     "name": "stdout",
     "output_type": "stream",
     "text": [
      "─────────────────────────────────────────────────────────────────────────────\n",
      "Loading  Gauss 2018.09.08 (Extended Gauss functionality for GAP)\n",
      "by Simon Goertzen (http://wwwb.math.rwth-aachen.de/goertzen).\n",
      "maintained by:\n",
      "   Mohamed Barakat (http://wwwb.math.rwth-aachen.de/~barakat/) and\n",
      "   Sebastian Gutsche (http://wwwb.math.rwth-aachen.de/~gutsche/).\n",
      "Homepage: http://homalg-project.github.io/homalg_project/Gauss/\n",
      "─────────────────────────────────────────────────────────────────────────────\n",
      "─────────────────────────────────────────────────────────────────────────────\n",
      "Loading  GaussForHomalg 2019.02.01 (Gauss functionality for the homalg project)\n",
      "by Simon Goertzen (http://wwwb.math.rwth-aachen.de/goertzen).\n",
      "maintained by:\n",
      "   Mohamed Barakat (http://www.mathematik.uni-kl.de/~barakat/).\n",
      "Homepage: http://homalg-project.github.io/homalg_project/GaussForHomalg/\n",
      "─────────────────────────────────────────────────────────────────────────────\n"
     ]
    },
    {
     "data": {
      "text/plain": [
       "GAP: Q"
      ]
     },
     "execution_count": 3,
     "metadata": {},
     "output_type": "execute_result"
    }
   ],
   "source": [
    "QQ = CAP.HomalgFieldOfRationals()"
   ]
  },
  {
   "cell_type": "markdown",
   "metadata": {},
   "source": [
    "We could also create a finite field $\\mathbb{F}_3$ with $3$ elements:"
   ]
  },
  {
   "cell_type": "code",
   "execution_count": 4,
   "metadata": {},
   "outputs": [
    {
     "data": {
      "text/plain": [
       "GAP: GF(3)"
      ]
     },
     "execution_count": 4,
     "metadata": {},
     "output_type": "execute_result"
    }
   ],
   "source": [
    "F3 = CAP.HomalgRingOfIntegers( 3 )"
   ]
  },
  {
   "cell_type": "markdown",
   "metadata": {},
   "source": [
    "The following constructor takes such a field as an input and returns\n",
    "our computational model of the category of finite dimensional vector spaces as an output:"
   ]
  },
  {
   "cell_type": "code",
   "execution_count": 5,
   "metadata": {},
   "outputs": [
    {
     "data": {
      "text/plain": [
       "GAP: Category of matrices over Q"
      ]
     },
     "execution_count": 5,
     "metadata": {},
     "output_type": "execute_result"
    }
   ],
   "source": [
    "matQQ = CAP.MatrixCategory( QQ )"
   ]
  },
  {
   "cell_type": "markdown",
   "metadata": {},
   "source": [
    "The $\\mathsf{GAP}$-object $\\mathrm{mat}_{\\mathbb{Q}}$ comes with some preset knowledge:"
   ]
  },
  {
   "cell_type": "code",
   "execution_count": 6,
   "metadata": {},
   "outputs": [
    {
     "data": {
      "text/plain": [
       "true"
      ]
     },
     "execution_count": 6,
     "metadata": {},
     "output_type": "execute_result"
    }
   ],
   "source": [
    "CAP.IsAbelianCategory( matQQ )"
   ]
  },
  {
   "cell_type": "markdown",
   "metadata": {},
   "source": [
    "We claimed in the introduction that we have an equivalence\n",
    "$$\\mathrm{vec}_{\\mathbb{Q}} \\simeq \\mathrm{mat}_{\\mathbb{Q}}\\text{,}$$\n",
    "so, let us learn more about $\\mathrm{mat}_{\\mathbb{Q}}$.\n",
    "We start with the **objects**. To construct an object in \n",
    "$\\mathrm{mat}_{\\mathbb{Q}}$, we use the following constructor:"
   ]
  },
  {
   "cell_type": "code",
   "execution_count": 7,
   "metadata": {},
   "outputs": [
    {
     "data": {
      "text/plain": [
       "GAP: A vector space object over Q of dimension 1"
      ]
     },
     "execution_count": 7,
     "metadata": {},
     "output_type": "execute_result"
    }
   ],
   "source": [
    "V1 = CAP.VectorSpaceObject( 1, QQ )"
   ]
  },
  {
   "cell_type": "markdown",
   "metadata": {},
   "source": [
    "Since we expect this object to represent a vector space, we ask for its dimension:"
   ]
  },
  {
   "cell_type": "code",
   "execution_count": 8,
   "metadata": {},
   "outputs": [
    {
     "data": {
      "text/plain": [
       "1"
      ]
     },
     "execution_count": 8,
     "metadata": {},
     "output_type": "execute_result"
    }
   ],
   "source": [
    "CAP.Dimension( V1 )"
   ]
  },
  {
   "cell_type": "markdown",
   "metadata": {},
   "source": [
    "Thus, $V_1$ shall represent a $\\mathbb{Q}$-vector space of dimension $1$.\n",
    "Likewise, we can use the command `VectorSpaceObject` to create vector space\n",
    "objects of any finite dimension. What happens if we create another vector\n",
    "space object of the same dimension?"
   ]
  },
  {
   "cell_type": "code",
   "execution_count": 9,
   "metadata": {},
   "outputs": [
    {
     "data": {
      "text/plain": [
       "true"
      ]
     },
     "execution_count": 9,
     "metadata": {},
     "output_type": "execute_result"
    }
   ],
   "source": [
    "W1 = CAP.VectorSpaceObject( 1, QQ )\n",
    "CAP.IsEqualForObjects( V1, W1 )"
   ]
  },
  {
   "cell_type": "markdown",
   "metadata": {},
   "source": [
    "Two objects with the same dimension are considered to be equal in\n",
    "$\\mathrm{mat}_{\\mathbb{Q}}$. Since the only datum needed for the\n",
    "creation of an object was a natural number (including zero),\n",
    "we can summarize:\n",
    "\n",
    "$$\\mathrm{Obj}\\big( \\mathrm{mat}_{\\mathbb{Q}} \\big) = \\mathbb{N}_0$$\n",
    "\n",
    "Next, we turn to **morphisms**.\n",
    "Given two objects\n",
    "$$\n",
    "m,n \\in \\mathrm{Obj}\\big( \\mathrm{mat}_{\\mathbb{Q}} \\big) = \\mathbb{N}_0\n",
    "$$\n",
    "the set of homomorphisms is simply given by\n",
    "$$\n",
    "\\mathrm{Hom}_{\\mathrm{mat}_{\\mathbb{Q}}}( m, n ) := \\mathbb{Q}^{m \\times n},\n",
    "$$\n",
    "i.e., $m$ by $n$ matrices with entries in $\\mathbb{Q}$.\n",
    "\n",
    "The corresponding constructor is called `VectorSpaceMorphism`."
   ]
  },
  {
   "cell_type": "code",
   "execution_count": 10,
   "metadata": {},
   "outputs": [
    {
     "name": "stdout",
     "output_type": "stream",
     "text": [
      "[ [  1,  1 ],\n",
      "  [  1,  1 ] ]\n",
      "\n",
      "A morphism in Category of matrices over Q\n",
      "\n"
     ]
    }
   ],
   "source": [
    "V2 = CAP.VectorSpaceObject( 2, QQ )\n",
    "mat = CAP.HomalgMatrix( @gap([1, 1, 1, 1]), 2, 2, QQ )\n",
    "α = CAP.VectorSpaceMorphism( V2, mat, V2 )\n",
    "GAP.Display( α )"
   ]
  },
  {
   "cell_type": "markdown",
   "metadata": {},
   "source": [
    "Please note that the `Display` command is not in the `CAP` module, but in the `GAP` module. It is a special display command for Jupyter notebooks."
   ]
  },
  {
   "cell_type": "markdown",
   "metadata": {},
   "source": [
    "The `@gap` macro translates to literal GAP input here, i.e., we can use it to create literal GAP input directly from Julia"
   ]
  },
  {
   "cell_type": "code",
   "execution_count": 11,
   "metadata": {},
   "outputs": [
    {
     "data": {
      "text/plain": [
       "GAP: [ 1 .. 5 ]"
      ]
     },
     "execution_count": 11,
     "metadata": {},
     "output_type": "execute_result"
    }
   ],
   "source": [
    "@gap [1 .. 5]"
   ]
  },
  {
   "cell_type": "markdown",
   "metadata": {},
   "source": [
    "It only works for literals, not anything that has a variable in it. For translating julia code to GAP, we can use the `julia_to_gap` function"
   ]
  },
  {
   "cell_type": "code",
   "execution_count": 12,
   "metadata": {},
   "outputs": [
    {
     "data": {
      "text/plain": [
       "GAP: [ [ 1, 2 ], [ 3, 4 ] ]"
      ]
     },
     "execution_count": 12,
     "metadata": {},
     "output_type": "execute_result"
    }
   ],
   "source": [
    "list = [1 2; 3 4]\n",
    "GAP.julia_to_gap(list)"
   ]
  },
  {
   "cell_type": "code",
   "execution_count": 13,
   "metadata": {},
   "outputs": [
    {
     "name": "stdout",
     "output_type": "stream",
     "text": [
      "[ [   7,  -2 ] ]\n",
      "\n",
      "A morphism in Category of matrices over Q\n",
      "\n"
     ]
    }
   ],
   "source": [
    "λ = CAP.VectorSpaceMorphism( V1, CAP.HomalgMatrix( @gap([7 , -2]), 1, 2, QQ ), V2 )\n",
    "GAP.Display( λ )"
   ]
  },
  {
   "cell_type": "code",
   "execution_count": 14,
   "metadata": {},
   "outputs": [
    {
     "name": "stdout",
     "output_type": "stream",
     "text": [
      "[ [  -3 ],\n",
      "  [   9 ] ]\n",
      "\n",
      "A morphism in Category of matrices over Q\n",
      "\n"
     ]
    }
   ],
   "source": [
    "ρ = CAP.VectorSpaceMorphism( V2, CAP.HomalgMatrix( @gap([-3, 9]), 2, 1, QQ ), V1 )\n",
    "GAP.Display( ρ )"
   ]
  },
  {
   "cell_type": "markdown",
   "metadata": {},
   "source": [
    "Composition in $\\mathrm{mat}_{\\mathbb{Q}}$ is given by matrix multiplication.\n",
    "\n",
    "There are two commands for composition:\n",
    "`PreCompose` and `PostCompose`"
   ]
  },
  {
   "cell_type": "code",
   "execution_count": 15,
   "metadata": {},
   "outputs": [
    {
     "name": "stdout",
     "output_type": "stream",
     "text": [
      "[ [  -39 ] ]\n",
      "\n",
      "A morphism in Category of matrices over Q\n",
      "\n"
     ]
    }
   ],
   "source": [
    "GAP.Display( CAP.PreCompose( λ, ρ ) )"
   ]
  },
  {
   "cell_type": "code",
   "execution_count": 16,
   "metadata": {},
   "outputs": [
    {
     "name": "stdout",
     "output_type": "stream",
     "text": [
      "[ [  -21,    6 ],\n",
      "  [   63,  -18 ] ]\n",
      "\n",
      "A morphism in Category of matrices over Q\n",
      "\n"
     ]
    }
   ],
   "source": [
    "GAP.Display( CAP.PostCompose( λ, ρ ) )"
   ]
  },
  {
   "cell_type": "markdown",
   "metadata": {},
   "source": [
    "**Exercise 1**\n",
    "\n",
    "> Create a *non-zero* morphism $\\beta: V_2 \\rightarrow V_2$ in $\\mathrm{mat}_{\\mathbb{Q}}$\n",
    "such that both\n",
    "$$\n",
    "\\alpha \\cdot \\beta = 0\n",
    "$$\n",
    "and\n",
    "$$\n",
    "\\alpha \\circ \\beta = 0\\text{,}\n",
    "$$\n",
    "where $\\alpha = \\begin{pmatrix} 1 & 1 \\\\ 1 & 1\\end{pmatrix}: V_2 \\rightarrow V_2$."
   ]
  },
  {
   "cell_type": "code",
   "execution_count": 17,
   "metadata": {},
   "outputs": [],
   "source": [
    "# Solution of Exercise 1:\n",
    "\n",
    "# \\beta := "
   ]
  },
  {
   "cell_type": "markdown",
   "metadata": {},
   "source": [
    "**Identities** in $\\mathrm{mat}_{\\mathbb{Q}}$ are given by\n",
    "identity matrices."
   ]
  },
  {
   "cell_type": "code",
   "execution_count": 18,
   "metadata": {},
   "outputs": [
    {
     "name": "stdout",
     "output_type": "stream",
     "text": [
      "[ [  1,  0 ],\n",
      "  [  0,  1 ] ]\n",
      "\n",
      "An identity morphism in Category of matrices over Q\n",
      "\n"
     ]
    }
   ],
   "source": [
    "GAP.Display( CAP.IdentityMorphism( V2 ) )"
   ]
  },
  {
   "cell_type": "markdown",
   "metadata": {},
   "source": [
    "Classically, the category of finite dimensional vector spaces\n",
    "is given by the class of objects $\\mathrm{Obj}\\big( \\mathrm{vec}_{\\mathbb{Q}} \\big)$ \n",
    "of finite dimensional $\\mathbb{Q}$-vector spaces,\n",
    "and homomorphism sets\n",
    "$\\mathrm{Hom}_{ \\mathrm{vec}_{\\mathbb{Q}} }( V, W )$\n",
    "given by $\\mathbb{Q}$-linear maps $\\alpha: V \\rightarrow W$\n",
    "for $\\mathbb{Q}$-vector spaces $V, W$.\n",
    "\n",
    "For us, the crucial point is that the mappings\n",
    "$$\n",
    "m \\mapsto \\mathbb{Q}^m\n",
    "$$\n",
    "and\n",
    "$$\n",
    "(a_{ij})_{\\substack{i = 1, \\dots m \\\\ j = 1, \\dots n}} \\mapsto\n",
    "\\big( \\mathbb{Q}^m \\stackrel{(a_{ij})_{ij}}{\\longrightarrow} \\mathbb{Q}^n \\big)\n",
    "$$\n",
    "define a functor\n",
    "$$\n",
    "\\mathrm{mat}_{\\mathbb{Q}} \\longrightarrow \\mathrm{vec}_{\\mathbb{Q}}\n",
    "$$\n",
    "that is an equivalence of categories.\n",
    "\n",
    "Thus, simply regarded as categories,\n",
    "$\\mathrm{mat}_{\\mathbb{Q}}$ and $\\mathrm{vec}_{\\mathbb{Q}}$\n",
    "are indistinguishable.\n",
    "\n",
    "Of course, this statement can only be computationally useful if \n",
    "there are interesting computations to do that only concern the\n",
    "categorical structure of $\\mathrm{vec}_{\\mathbb{Q}}$.\n",
    "Luckily, there is a lot that we can compute, and this is\n",
    "due to the various constructions provided by the\n",
    "concept of an *abelian category*."
   ]
  },
  {
   "cell_type": "markdown",
   "metadata": {},
   "source": [
    "### Ab-categories"
   ]
  },
  {
   "cell_type": "markdown",
   "metadata": {},
   "source": [
    "An Ab-category (which is much weaker than an abelian category)\n",
    "is a category in which all homomorphism sets are abelian groups,\n",
    "and composition distributes over addition."
   ]
  },
  {
   "cell_type": "code",
   "execution_count": 19,
   "metadata": {},
   "outputs": [
    {
     "name": "stdout",
     "output_type": "stream",
     "text": [
      "[ [  2,  2 ],\n",
      "  [  2,  2 ] ]\n",
      "\n",
      "A morphism in Category of matrices over Q\n",
      "\n"
     ]
    }
   ],
   "source": [
    "GAP.Display( α + α )"
   ]
  },
  {
   "cell_type": "code",
   "execution_count": 20,
   "metadata": {},
   "outputs": [
    {
     "name": "stdout",
     "output_type": "stream",
     "text": [
      "[ [  -1,  -1 ],\n",
      "  [  -1,  -1 ] ]\n",
      "\n",
      "A morphism in Category of matrices over Q\n",
      "\n"
     ]
    }
   ],
   "source": [
    "GAP.Display( -α )"
   ]
  },
  {
   "cell_type": "code",
   "execution_count": 21,
   "metadata": {},
   "outputs": [
    {
     "name": "stdout",
     "output_type": "stream",
     "text": [
      "[ [  0,  0 ] ]\n",
      "\n",
      "A zero morphism in Category of matrices over Q\n",
      "\n"
     ]
    }
   ],
   "source": [
    "GAP.Display( CAP.ZeroMorphism( V1, V2 ) )"
   ]
  },
  {
   "cell_type": "code",
   "execution_count": 22,
   "metadata": {},
   "outputs": [
    {
     "data": {
      "text/plain": [
       "true"
      ]
     },
     "execution_count": 22,
     "metadata": {},
     "output_type": "execute_result"
    }
   ],
   "source": [
    "γ = CAP.VectorSpaceMorphism( V1, CAP.HomalgMatrix( @gap([3,5]), 1, 2, QQ ), V2 )\n",
    "δ = CAP.VectorSpaceMorphism( V1, CAP.HomalgMatrix( @gap([-9, 0]), 1, 2, QQ ), V2 )\n",
    "\n",
    "CAP.IsCongruentForMorphisms(\n",
    "CAP.PreCompose( γ + δ, α ),\n",
    "CAP.PreCompose( γ, α ) + CAP.PreCompose( δ, α )\n",
    ")"
   ]
  },
  {
   "cell_type": "markdown",
   "metadata": {},
   "source": [
    "The command for comparing morphisms on a mathematical level is `IsCongruentForMorphisms`.\n",
    "\n",
    "*Remark: there is also a command called `IsEqualForMorphisms` that compares\n",
    "morphisms on a technical level. We will see the difference between\n",
    "these two notions in our discussion\n",
    "of the category $\\mathrm{fpres}_R$.*\n",
    "\n",
    "Given two morphisms $\\alpha, \\beta: A \\rightarrow B$, we will write\n",
    "$$\n",
    "\\alpha \\sim_{A,B} \\beta\n",
    "$$\n",
    "or simply\n",
    "$$\n",
    "\\alpha \\sim \\beta\n",
    "$$\n",
    "when we mean that they are congruent, i.e., equal on a mathematical level."
   ]
  },
  {
   "cell_type": "markdown",
   "metadata": {},
   "source": [
    "### Direct sums"
   ]
  },
  {
   "cell_type": "markdown",
   "metadata": {},
   "source": [
    "The following description is taken from the CAP manual:\n",
    "\n",
    "> For a given list $D = (S_1, \\dots, S_n)$ in an Ab-category, a direct sum consists of five parts:\n",
    "- an object $S$,\n",
    "- a list of morphisms $\\pi = (\\pi_i: S \\rightarrow S_i)_{i = 1 \\dots n}$,\n",
    "- a list of morphisms $\\iota = (\\iota_i: S_i \\rightarrow S)_{i = 1 \\dots n}$\n",
    "- a  dependent  function  $u_{\\mathrm{in}}$  mapping  every  list  $\\tau  =  (  \\tau_i:  T  \\rightarrow  S_i  )_{i  =  1 \\dots n}$ \n",
    "to a morphism $u_{\\mathrm{in}}(\\tau): T \\rightarrow S$ such that $\\pi_i \\circ u_{\\mathrm{in}}(\\tau) \\sim_{T,S_i} \\tau_i$ for all $i = 1, \\dots, n$.\n",
    "- a  dependent  function  $u_{\\mathrm{out}}$  mapping  every  list  $\\tau  =  (  \\tau_i:  S_i  \\rightarrow  T  )_{i  = 1 \\dots n}$ to a morphism $u_{\\mathrm{out}}(\\tau): S \\rightarrow T$ such that $u_{\\mathrm{out}}(\\tau) \\circ \\iota_i \\sim_{S_i, T} \\tau_i$ for all $i = 1, \\dots, n$,\n",
    ">\n",
    ">such that\n",
    ">\n",
    "> - $\\sum_{i=1}^{n} \\iota_i \\circ \\pi_i \\sim_{S,S} \\mathrm{id}_S$,\n",
    "- $\\pi_j \\circ \\iota_i \\sim_{S_i,S_j} \\delta_{i,j}$,\n",
    ">\n",
    "> where  $\\delta_{i,j}  \\in  \\mathrm{Hom}(  S_i,  S_j  )$ is the identity if $i=j$, and $0$ otherwise. The $5$-tuple $(S, \\pi, \\iota, u_{\\mathrm{in}},\n",
    "  u_{\\mathrm{out}})$ is called a direct sum of $D$. We denote the object $S$ of such a $5$-tuple by $\\bigoplus_{i=1}^n S_i$. We say that the morphisms\n",
    "  $u_{\\mathrm{in}}(\\tau),  u_{\\mathrm{out}}(\\tau)$ are induced by the universal property of the direct sum.\n",
    "\n",
    "We show how the described functionalities of direct sums\n",
    "can be addressed in CAP:"
   ]
  },
  {
   "cell_type": "markdown",
   "metadata": {},
   "source": [
    "The command `DirectSum` takes as an input \n",
    "a list of objects $[S_1, \\dots, S_n]$\n",
    "and computes a direct sum object\n",
    "$\\bigoplus_{i=1}^n S_i$:"
   ]
  },
  {
   "cell_type": "code",
   "execution_count": 23,
   "metadata": {},
   "outputs": [
    {
     "data": {
      "text/plain": [
       "GAP: A vector space object over Q of dimension 6"
      ]
     },
     "execution_count": 23,
     "metadata": {},
     "output_type": "execute_result"
    }
   ],
   "source": [
    "D = GAP.julia_to_gap([ V1, V2, V2, V1 ])\n",
    "S = CAP.DirectSum( D )"
   ]
  },
  {
   "cell_type": "markdown",
   "metadata": {},
   "source": [
    "Note that the translation of $[ V_1, V_2, V_2, V_1 ]$ to a GAP list is not necessary here, as we can also call `DirectSum` with arbitrary many arguments. However, for the next command, it is necessary."
   ]
  },
  {
   "cell_type": "code",
   "execution_count": 24,
   "metadata": {
    "scrolled": true
   },
   "outputs": [
    {
     "name": "stdout",
     "output_type": "stream",
     "text": [
      "[ [  0,  0 ],\n",
      "  [  1,  0 ],\n",
      "  [  0,  1 ],\n",
      "  [  0,  0 ],\n",
      "  [  0,  0 ],\n",
      "  [  0,  0 ] ]\n",
      "\n",
      "A morphism in Category of matrices over Q\n",
      "\n"
     ]
    }
   ],
   "source": [
    "π₁ = CAP.ProjectionInFactorOfDirectSum( D, 2 )\n",
    "GAP.Display( π₁ )"
   ]
  },
  {
   "cell_type": "markdown",
   "metadata": {},
   "source": [
    "Note that the argument in\n",
    "`ProjectionInFactorOfDirectSum`\n",
    "is the list $D$, not the already constructed object $S$.\n",
    "The object $S$ is simply given by the number $6$ and\n",
    "does not know anything about the way it was created."
   ]
  },
  {
   "cell_type": "code",
   "execution_count": 25,
   "metadata": {},
   "outputs": [
    {
     "name": "stdout",
     "output_type": "stream",
     "text": [
      "[ [  0,  1,  0,  0,  0,  0 ],\n",
      "  [  0,  0,  1,  0,  0,  0 ] ]\n",
      "\n",
      "A morphism in Category of matrices over Q\n",
      "\n"
     ]
    }
   ],
   "source": [
    "ι₁ = CAP.InjectionOfCofactorOfDirectSum( D, 2 )\n",
    "GAP.Display( ι₁ )"
   ]
  },
  {
   "cell_type": "code",
   "execution_count": 26,
   "metadata": {},
   "outputs": [
    {
     "data": {
      "text/plain": [
       "true"
      ]
     },
     "execution_count": 26,
     "metadata": {},
     "output_type": "execute_result"
    }
   ],
   "source": [
    "CAP.IsCongruentForMorphisms(\n",
    "    CAP.IdentityMorphism( V2 ),\n",
    "    CAP.PreCompose( ι₁, π₁ )\n",
    ")"
   ]
  },
  {
   "cell_type": "code",
   "execution_count": 27,
   "metadata": {},
   "outputs": [
    {
     "name": "stdout",
     "output_type": "stream",
     "text": [
      "[ [   0,   1,   1,  -3,   0,   0 ],\n",
      "  [   0,   1,   1,   0,  -3,   0 ] ]\n",
      "\n",
      "A morphism in Category of matrices over Q\n",
      "\n"
     ]
    }
   ],
   "source": [
    "GAP.Display( \n",
    "    CAP.UniversalMorphismIntoDirectSum( GAP.julia_to_gap([\n",
    "        CAP.ZeroMorphism( V2, V1 ),\n",
    "        α,\n",
    "        -3 * CAP.IdentityMorphism( V2 ),\n",
    "        CAP.ZeroMorphism( V2, V1 )\n",
    "    ] ) )\n",
    ")"
   ]
  },
  {
   "cell_type": "code",
   "execution_count": 28,
   "metadata": {},
   "outputs": [
    {
     "name": "stdout",
     "output_type": "stream",
     "text": [
      "[ [   0,   0 ],\n",
      "  [   1,   1 ],\n",
      "  [   1,   1 ],\n",
      "  [  -3,   0 ],\n",
      "  [   0,  -3 ],\n",
      "  [   0,   0 ] ]\n",
      "\n",
      "A morphism in Category of matrices over Q\n",
      "\n"
     ]
    }
   ],
   "source": [
    "GAP.Display( \n",
    "    CAP.UniversalMorphismFromDirectSum( GAP.julia_to_gap([\n",
    "        CAP.ZeroMorphism( V1, V2 ),\n",
    "        α,\n",
    "        -3 * CAP.IdentityMorphism( V2 ),\n",
    "        CAP.ZeroMorphism( V1, V2 )\n",
    "        ]) )\n",
    ")"
   ]
  },
  {
   "cell_type": "markdown",
   "metadata": {},
   "source": [
    "**Exercise 2**\n",
    "> Create the morphism\n",
    "> $$\\alpha = \\begin{pmatrix} 1 & 1 \\\\ 1 & 1\\end{pmatrix}: V_2 \\rightarrow V_2$$ \n",
    "> \n",
    "> only using the object $V_1$ and the following commands:\n",
    "> - `IdentityMorphism`\n",
    "> - `UniversalMorphismFromDirectSum`\n",
    "> - `UniversalMorphismIntoDirectSum`\n",
    " "
   ]
  },
  {
   "cell_type": "code",
   "execution_count": 29,
   "metadata": {},
   "outputs": [],
   "source": [
    "# Solution of Exercise 2:\n",
    "\n"
   ]
  },
  {
   "cell_type": "markdown",
   "metadata": {},
   "source": [
    "### Kernels"
   ]
  },
  {
   "cell_type": "markdown",
   "metadata": {},
   "source": [
    "Given a morphism \n",
    "\n",
    "$$\n",
    "\\mu: V \\rightarrow W\n",
    "$$\n",
    "\n",
    "between vector spaces $V,W$, the common\n",
    "way to describe its kernel set-theoretically\n",
    "is given by\n",
    "\n",
    "$$\n",
    "\\mathrm{kernel}(\\mu) := \\{ v \\in V \\mid \\mu(v) = 0 \\}.\n",
    "$$\n",
    "\n",
    "Clearly, this definition makes no sense in our computational\n",
    "model $\\mathrm{mat}_{\\mathbb{Q}}$, where we do not have\n",
    "access to \"elements of vector spaces\", since objects in\n",
    "$\\mathrm{mat}_{\\mathbb{Q}}$ are\n",
    "simply represented by natural numbers.\n",
    "\n",
    "**Nevertheless, category theory provides enough language\n",
    "that lets us work with kernels anyway.**\n",
    "\n",
    "\n",
    "The following description is taken from the CAP manual:\n",
    "\n",
    ">For a given morphism $\\alpha: A \\rightarrow B$, a kernel of $\\alpha$ consists of three parts:\n",
    "- an object $K$,\n",
    "- a morphism $\\iota: K \\rightarrow A$ such that $\\alpha \\circ \\iota \\sim_{K,B} 0$,\n",
    "- a  dependent  function $u$ mapping each morphism $\\tau: T \\rightarrow A$ satisfying $\\alpha \\circ \\tau \\sim_{T,B} 0$ to a morphism $u(\\tau): T \\rightarrow K$ such that $\\iota\\circ u( \\tau ) \\sim_{T,A} \\tau$.\n",
    "  >\n",
    ">  The  triple  $( K, \\iota, u )$ is called a kernel of $\\alpha$ if the morphisms $u( \\tau )$ are uniquely determined up to congruence of morphisms. We denote the object $K$ of such a\n",
    "  triple  by  $\\mathrm{KernelObject}(\\alpha)$. We  say  that the morphism $u(\\tau)$ is induced by the universal property of the kernel.\n",
    "  \n",
    "  \n",
    "We show how the described functionalities of kernels\n",
    "can be addressed in CAP:\n"
   ]
  },
  {
   "cell_type": "markdown",
   "metadata": {},
   "source": [
    "Recall that $\\alpha$ was given by"
   ]
  },
  {
   "cell_type": "code",
   "execution_count": 30,
   "metadata": {},
   "outputs": [
    {
     "name": "stdout",
     "output_type": "stream",
     "text": [
      "[ [  1,  1 ],\n",
      "  [  1,  1 ] ]\n",
      "\n",
      "A morphism in Category of matrices over Q\n",
      "\n"
     ]
    }
   ],
   "source": [
    "GAP.Display( α )"
   ]
  },
  {
   "cell_type": "code",
   "execution_count": 31,
   "metadata": {},
   "outputs": [
    {
     "data": {
      "text/plain": [
       "GAP: A vector space object over Q of dimension 1"
      ]
     },
     "execution_count": 31,
     "metadata": {},
     "output_type": "execute_result"
    }
   ],
   "source": [
    "K = CAP.KernelObject( α )"
   ]
  },
  {
   "cell_type": "code",
   "execution_count": 32,
   "metadata": {},
   "outputs": [
    {
     "name": "stdout",
     "output_type": "stream",
     "text": [
      "[ [  -1,   1 ] ]\n",
      "\n",
      "A split monomorphism in Category of matrices over Q\n",
      "\n"
     ]
    }
   ],
   "source": [
    "ι = CAP.KernelEmbedding( α )\n",
    "GAP.Display( ι )"
   ]
  },
  {
   "cell_type": "markdown",
   "metadata": {},
   "source": [
    "So, instead of \"seeing\" the linear dependencies of the rows\n",
    "of the underlying matrix of $\\alpha$ within the kernel object,\n",
    "we can \"see\" them in the kernel embedding of $\\alpha$ instead."
   ]
  },
  {
   "cell_type": "markdown",
   "metadata": {},
   "source": [
    "Next, we create a test morphism."
   ]
  },
  {
   "cell_type": "code",
   "execution_count": 33,
   "metadata": {},
   "outputs": [
    {
     "name": "stdout",
     "output_type": "stream",
     "text": [
      "[ [  -2,   2 ],\n",
      "  [  -1,   1 ] ]\n",
      "\n",
      "A morphism in Category of matrices over Q\n",
      "\n"
     ]
    }
   ],
   "source": [
    "τ = CAP.UniversalMorphismFromDirectSum( GAP.julia_to_gap([ 2*ι, ι ]) )\n",
    "GAP.Display( τ )"
   ]
  },
  {
   "cell_type": "markdown",
   "metadata": {},
   "source": [
    "From the induced map of the universal property of the kernel,\n",
    "we can read off how the rows of $\\tau$ are given as linear\n",
    "combinations of the rows in the kernel embedding."
   ]
  },
  {
   "cell_type": "code",
   "execution_count": 34,
   "metadata": {},
   "outputs": [
    {
     "name": "stdout",
     "output_type": "stream",
     "text": [
      "[ [  2 ],\n",
      "  [  1 ] ]\n",
      "\n",
      "A morphism in Category of matrices over Q\n",
      "\n"
     ]
    }
   ],
   "source": [
    "lift = CAP.KernelLift( α, τ )\n",
    "GAP.Display( lift )"
   ]
  },
  {
   "cell_type": "code",
   "execution_count": 35,
   "metadata": {},
   "outputs": [
    {
     "data": {
      "text/plain": [
       "true"
      ]
     },
     "execution_count": 35,
     "metadata": {},
     "output_type": "execute_result"
    }
   ],
   "source": [
    "CAP.IsCongruentForMorphisms(\n",
    "    CAP.PreCompose( lift, ι ),\n",
    "    τ\n",
    ")"
   ]
  },
  {
   "cell_type": "markdown",
   "metadata": {},
   "source": [
    "*Remark: on a technical level, Gaussian elemination is triggered in order to \n",
    "compute the outputs of the commands given above. However, as long as you can phrase\n",
    "and interpret the entities that you wish to compute categorically, you do not need to know\n",
    "the technicalities behind the commands.*"
   ]
  },
  {
   "cell_type": "markdown",
   "metadata": {},
   "source": [
    "**Exercise 3**\n",
    "> Write a function for the functoriality of the kernel, i.e., a function that takes as an input\n",
    "> $$\\mu_1: A \\rightarrow B$$\n",
    "> $$\\mu_2: A' \\rightarrow B'$$\n",
    "> $$\\nu_1: A \\rightarrow A'$$\n",
    "> $$\\nu_2: B \\rightarrow B'$$\n",
    "> such that\n",
    "> $$\\mu_1 \\cdot \\nu_2 \\sim \\nu_1 \\cdot \\mu_2\\text{,}$$\n",
    "> and gives as an output a morphism\n",
    "> $$\\iota: \\mathrm{KernelObject}( \\mu_1 ) \\longrightarrow \\mathrm{KernelObject}( \\mu_2 )$$\n",
    "> such that\n",
    "> $$\\iota \\cdot \\mathrm{KernelEmbedding}( \\mu_2 ) \\sim \\mathrm{KernelEmbedding}( \\mu_1 ) \\cdot \\nu_1\\text{.}$$\n",
    "> \n",
    "> Only use those CAP commands that you have already seen in this worksheet."
   ]
  },
  {
   "cell_type": "code",
   "execution_count": 36,
   "metadata": {},
   "outputs": [
    {
     "data": {
      "text/plain": [
       "kernelfunctorial (generic function with 1 method)"
      ]
     },
     "execution_count": 36,
     "metadata": {},
     "output_type": "execute_result"
    }
   ],
   "source": [
    "# Solution of Exercise 3\n",
    "function kernelfunctorial(μ₁,μ₂,ν₁,ν₂)\n",
    "   ## Your code goes here \n",
    "end"
   ]
  },
  {
   "cell_type": "markdown",
   "metadata": {},
   "source": [
    "### Cokernels"
   ]
  },
  {
   "cell_type": "markdown",
   "metadata": {},
   "source": [
    "In order to properly introduce the cokernel of a morphism\n",
    "\n",
    "$$\n",
    "\\mu: V \\rightarrow W\n",
    "$$\n",
    "\n",
    "between vector spaces $V,W$ in a set-theoretical way,\n",
    "we would need to introduce the concept of images and quotient\n",
    "spaces first.\n",
    "\n",
    "In the language of category theory, we can simply state\n",
    "that the definition of a cokernel is dual to the definition\n",
    "of a kernel, i.e., simply reverse all the arrows in \n",
    "the categorical definition of the kernel.\n",
    "\n",
    "The following description is taken from the CAP manual:\n",
    "\n",
    "> For a given morphism $\\alpha: A \\rightarrow B$, a cokernel of $\\alpha$ consists of three parts:\n",
    "  - an object $K$,\n",
    "  - a morphism $\\epsilon: B \\rightarrow K$ such that $\\epsilon \\circ \\alpha \\sim_{A,K} 0$,\n",
    "  - a  dependent  function  $u$ mapping each $\\tau: B \\rightarrow T$ satisfying $\\tau \\circ \\alpha \\sim_{A, T} 0$ to a morphism $u(\\tau):K \\rightarrow T$ such that $u(\\tau) \\circ \\epsilon \\sim_{B,T} \\tau$.\n",
    ">\n",
    "> The  triple  $(  K,  \\epsilon, u )$ is called a cokernel of $\\alpha$ if the morphisms $u( \\tau )$ are uniquely determined up to congruence of morphisms. We denote the object $K$ of\n",
    "  such  a  triple  by $\\mathrm{CokernelObject}(\\alpha)$. We say that the morphism $u(\\tau)$ is induced by the universal property of the cokernel.\n",
    "  \n",
    "We show how the described functionalities of cokernels\n",
    "can be addressed in CAP:"
   ]
  },
  {
   "cell_type": "markdown",
   "metadata": {},
   "source": [
    "Recall that $\\alpha$ was given by"
   ]
  },
  {
   "cell_type": "code",
   "execution_count": 37,
   "metadata": {},
   "outputs": [
    {
     "name": "stdout",
     "output_type": "stream",
     "text": [
      "[ [  1,  1 ],\n",
      "  [  1,  1 ] ]\n",
      "\n",
      "A morphism in Category of matrices over Q\n",
      "\n"
     ]
    }
   ],
   "source": [
    "GAP.Display( α )"
   ]
  },
  {
   "cell_type": "code",
   "execution_count": 38,
   "metadata": {},
   "outputs": [
    {
     "data": {
      "text/plain": [
       "GAP: A vector space object over Q of dimension 1"
      ]
     },
     "execution_count": 38,
     "metadata": {},
     "output_type": "execute_result"
    }
   ],
   "source": [
    "C = CAP.CokernelObject( α )"
   ]
  },
  {
   "cell_type": "code",
   "execution_count": 39,
   "metadata": {},
   "outputs": [
    {
     "name": "stdout",
     "output_type": "stream",
     "text": [
      "[ [  -1 ],\n",
      "  [   1 ] ]\n",
      "\n",
      "A split epimorphism in Category of matrices over Q\n",
      "\n"
     ]
    }
   ],
   "source": [
    "ϵ = CAP.CokernelProjection( α )\n",
    "GAP.Display( ϵ )"
   ]
  },
  {
   "cell_type": "code",
   "execution_count": 40,
   "metadata": {
    "scrolled": true
   },
   "outputs": [
    {
     "name": "stdout",
     "output_type": "stream",
     "text": [
      "[ [  1 ] ]\n",
      "\n",
      "A morphism in Category of matrices over Q\n",
      "\n"
     ]
    }
   ],
   "source": [
    "τ = ϵ\n",
    "colift = CAP.CokernelColift( α, τ )\n",
    "GAP.Display( colift )"
   ]
  },
  {
   "cell_type": "code",
   "execution_count": 41,
   "metadata": {},
   "outputs": [
    {
     "data": {
      "text/plain": [
       "true"
      ]
     },
     "execution_count": 41,
     "metadata": {},
     "output_type": "execute_result"
    }
   ],
   "source": [
    "CAP.IsCongruentForMorphisms(\n",
    "    CAP.PreCompose( ϵ, colift ),\n",
    "    τ\n",
    ")"
   ]
  },
  {
   "cell_type": "markdown",
   "metadata": {},
   "source": [
    "**Exercise 4**\n",
    "\n",
    "> Construct your own example of morphisms\n",
    ">\n",
    "> $$\\sigma, \\tau$$\n",
    ">\n",
    "> such that\n",
    "> `CokernelColift( sigma, tau )` is neither the identity nor zero."
   ]
  },
  {
   "cell_type": "code",
   "execution_count": 42,
   "metadata": {},
   "outputs": [],
   "source": [
    "# Solution of Exercise 4\n",
    "\n"
   ]
  },
  {
   "cell_type": "markdown",
   "metadata": {},
   "source": [
    "### Lift along monos, colift along epis"
   ]
  },
  {
   "cell_type": "markdown",
   "metadata": {},
   "source": [
    "The definition of an abelian category involves the following two statements:\n",
    "> every mono is the kernel of its cokernel\n",
    "\n",
    "and\n",
    "> every epi is the cokernel of its kernel.\n",
    "\n",
    "Unwrapping these shortcut statements, we see that\n",
    "we have to able to compute\n",
    "> lifts along monomorphisms\n",
    "\n",
    "and\n",
    "> colifts along epimorphisms.\n",
    "\n",
    "We start with lifts along monomorphisms."
   ]
  },
  {
   "cell_type": "code",
   "execution_count": 43,
   "metadata": {},
   "outputs": [
    {
     "name": "stdout",
     "output_type": "stream",
     "text": [
      "[ [   1,  -1 ] ]\n",
      "\n",
      "A morphism in Category of matrices over Q\n",
      "\n"
     ]
    }
   ],
   "source": [
    "mono =\n",
    "    CAP.VectorSpaceMorphism( V1, CAP.HomalgMatrix( @gap([1,-1]), 1, 2, QQ ), V2 )\n",
    "GAP.Display( mono )"
   ]
  },
  {
   "cell_type": "code",
   "execution_count": 44,
   "metadata": {},
   "outputs": [
    {
     "data": {
      "text/plain": [
       "true"
      ]
     },
     "execution_count": 44,
     "metadata": {},
     "output_type": "execute_result"
    }
   ],
   "source": [
    "CAP.IsMonomorphism( mono )"
   ]
  },
  {
   "cell_type": "code",
   "execution_count": 45,
   "metadata": {},
   "outputs": [
    {
     "name": "stdout",
     "output_type": "stream",
     "text": [
      "[ [   2,  -2 ],\n",
      "  [   3,  -3 ] ]\n",
      "\n",
      "A morphism in Category of matrices over Q\n",
      "\n"
     ]
    }
   ],
   "source": [
    "τ = CAP.VectorSpaceMorphism( V2, CAP.HomalgMatrix( @gap([2,-2, 3,-3]), 2, 2, QQ ), V2 )\n",
    "GAP.Display( τ )"
   ]
  },
  {
   "cell_type": "code",
   "execution_count": 46,
   "metadata": {},
   "outputs": [
    {
     "data": {
      "text/plain": [
       "true"
      ]
     },
     "execution_count": 46,
     "metadata": {},
     "output_type": "execute_result"
    }
   ],
   "source": [
    "CAP.IsZeroForMorphisms( \n",
    "    CAP.PreCompose( τ, CAP.CokernelProjection( mono ) )\n",
    ")"
   ]
  },
  {
   "cell_type": "markdown",
   "metadata": {},
   "source": [
    "Since we expect `mono` to be the kernel embedding of its cokernel projection,\n",
    "and since `tau` is a proper test morphism, we should be able\n",
    "to compute the lift:"
   ]
  },
  {
   "cell_type": "code",
   "execution_count": 47,
   "metadata": {},
   "outputs": [
    {
     "name": "stdout",
     "output_type": "stream",
     "text": [
      "[ [  2 ],\n",
      "  [  3 ] ]\n",
      "\n",
      "A morphism in Category of matrices over Q\n",
      "\n"
     ]
    }
   ],
   "source": [
    "lift = CAP.LiftAlongMonomorphism( mono, τ )\n",
    "GAP.Display( lift )"
   ]
  },
  {
   "cell_type": "markdown",
   "metadata": {},
   "source": [
    "**Exercise 5**\n",
    "> The command for colifts along epimorphism is given by\n",
    "> `ColiftAlongEpimorphism`. Create an example for its usage."
   ]
  },
  {
   "cell_type": "code",
   "execution_count": 48,
   "metadata": {},
   "outputs": [],
   "source": [
    "# Solution of Exercise 5\n",
    "\n"
   ]
  },
  {
   "cell_type": "markdown",
   "metadata": {},
   "source": [
    "### Category of finitely presented left modules"
   ]
  },
  {
   "cell_type": "markdown",
   "metadata": {},
   "source": [
    "As promised, we introduce a computable\n",
    "model of the category $\\mathrm{mod}_R$ of finitely presented (left)\n",
    "modules over a computable ring $R$.\n",
    "A **(left) computable ring** is a ring $R$ \n",
    "equipped with\n",
    "\n",
    "- an algorithm to compute a finite generating set of the row syzygies of a given matrix,\n",
    "- an algorithm to decide the existence and to find a particular solution of a left-sided inhomogeneous linear system, i.e., a linear system of the form $X \\cdot A = B$ for given matrices $A,B$ over $R$.\n",
    "\n",
    "*Remark: the existence of finite generating sets of row syzygies is actually\n",
    "equivalent to the category $\\mathrm{mod}_R$\n",
    "being abelian.*"
   ]
  },
  {
   "cell_type": "markdown",
   "metadata": {},
   "source": [
    "We are going to create the ring of integers\n",
    "$$\n",
    "R := \\mathbb{Z}.\n",
    "$$"
   ]
  },
  {
   "cell_type": "code",
   "execution_count": 49,
   "metadata": {},
   "outputs": [
    {
     "data": {
      "text/plain": [
       "GAP: Z"
      ]
     },
     "execution_count": 49,
     "metadata": {},
     "output_type": "execute_result"
    }
   ],
   "source": [
    "R = CAP.HomalgRingOfIntegers()"
   ]
  },
  {
   "cell_type": "markdown",
   "metadata": {},
   "source": [
    "*Convention: when we say module, we will always mean a left module.*\n",
    "\n",
    "An $R$-module $M$ is finitely presented if\n",
    "$$ \\exists m,n \\in \\mathbb{N}_0 \\exists (a_{ij})_{ij} \\in R^{m \\times n}: M \\simeq \\mathrm{CokernelObject}( R^m \\stackrel{(a_{ij})_{ij}}{\\longrightarrow} R^n ) $$\n",
    "\n",
    "Thus, matrices with entries in $R$ are great candidates for a data structure\n",
    "of the objects in our computational model $\\mathrm{fpres}_R$.\n",
    "\n",
    "Our computational model $\\mathrm{fpres}_R$ for finitely presented (left) modules,\n",
    "which we call the **category of left presentations** of $R$, is part of the following $\\textsf{GAP}$-package:"
   ]
  },
  {
   "cell_type": "code",
   "execution_count": 50,
   "metadata": {},
   "outputs": [],
   "source": [
    "LoadPackageAndExposeGlobals( \"ModulePresentationsForCAP\", CAP )"
   ]
  },
  {
   "cell_type": "code",
   "execution_count": 51,
   "metadata": {},
   "outputs": [
    {
     "data": {
      "text/plain": [
       "GAP: Category of left presentations of Z"
      ]
     },
     "execution_count": 51,
     "metadata": {},
     "output_type": "execute_result"
    }
   ],
   "source": [
    "fpresR = CAP.LeftPresentations( R )"
   ]
  },
  {
   "cell_type": "markdown",
   "metadata": {},
   "source": [
    "To construct an object in $\\mathrm{fpres}_R$, we use the following constructor:"
   ]
  },
  {
   "cell_type": "code",
   "execution_count": 52,
   "metadata": {},
   "outputs": [
    {
     "name": "stdout",
     "output_type": "stream",
     "text": [
      "[ [  1,  2 ],\n",
      "  [  1,  1 ] ]\n",
      "\n",
      "An object in Category of left presentations of Z\n",
      "\n"
     ]
    }
   ],
   "source": [
    "M1 = CAP.AsLeftPresentation( CAP.HomalgMatrix( @gap([1,2,1,1]), 2, 2, R ) )\n",
    "GAP.Display( M1 )"
   ]
  },
  {
   "cell_type": "code",
   "execution_count": 53,
   "metadata": {},
   "outputs": [
    {
     "name": "stdout",
     "output_type": "stream",
     "text": [
      "[ [  1,  0 ],\n",
      "  [  0,  1 ] ]\n",
      "\n",
      "An object in Category of left presentations of Z\n",
      "\n"
     ]
    }
   ],
   "source": [
    "M2 = CAP.AsLeftPresentation( CAP.HomalgIdentityMatrix( 2, R ) )\n",
    "GAP.Display( M2 )"
   ]
  },
  {
   "cell_type": "markdown",
   "metadata": {},
   "source": [
    "The two objects $M_1, M_2$ that we have just created\n",
    "are considered to be unequal, since their underlying\n",
    "matrices are unequal:"
   ]
  },
  {
   "cell_type": "code",
   "execution_count": 54,
   "metadata": {},
   "outputs": [
    {
     "data": {
      "text/plain": [
       "false"
      ]
     },
     "execution_count": 54,
     "metadata": {},
     "output_type": "execute_result"
    }
   ],
   "source": [
    "CAP.IsEqualForObjects( M1, M2 )"
   ]
  },
  {
   "cell_type": "markdown",
   "metadata": {},
   "source": [
    "However, both objects are isomorphic to the zero object:"
   ]
  },
  {
   "cell_type": "code",
   "execution_count": 55,
   "metadata": {},
   "outputs": [
    {
     "data": {
      "text/plain": [
       "true"
      ]
     },
     "execution_count": 55,
     "metadata": {},
     "output_type": "execute_result"
    }
   ],
   "source": [
    "CAP.IsZeroForObjects( M1 )"
   ]
  },
  {
   "cell_type": "code",
   "execution_count": 56,
   "metadata": {},
   "outputs": [
    {
     "data": {
      "text/plain": [
       "true"
      ]
     },
     "execution_count": 56,
     "metadata": {},
     "output_type": "execute_result"
    }
   ],
   "source": [
    "CAP.IsZeroForObjects( M2 )"
   ]
  },
  {
   "cell_type": "markdown",
   "metadata": {},
   "source": [
    "This computation reflects the fact that the matrix over $R$\n",
    "presenting a module $M$ is not uniquely determined.\n",
    "Nevertheless, this does not prevent us from taking such matrices\n",
    "as a data structure for the objects in $\\mathrm{fpres}_R$,\n",
    "as long as our choice for the morphisms will grantuee that we\n",
    "will end up with an equivalence\n",
    "$$\n",
    "\\mathrm{mod}_R \\simeq \\mathrm{fpres}_R.\n",
    "$$\n",
    "\n",
    "A morphism between two objects\n",
    "$$\n",
    "(a_{ij})_{ij}, (b_{kl})_{kl} \\in \\mathrm{Obj}\\big( \\mathrm{fpres}_R \\big)\n",
    "$$\n",
    "is given by a matrix\n",
    "$$\n",
    "(c_{jl})_{jl}\n",
    "$$\n",
    "over $R$ such that there exists another matrix $( d_{ik} )_{ik}$ over $R$\n",
    "such that\n",
    "$$\n",
    "(a_{ij})_{ij} \\cdot (c_{jl})_{jl} = (d_{ik})_{ik} \\cdot (b_{kl})_{kl}\\text{.}\n",
    "$$\n",
    "\n",
    "As an example, let us create the natural epimorphism\n",
    "$$\n",
    "\\epsilon: R \\twoheadrightarrow R/\\langle 2 \\rangle\n",
    "$$"
   ]
  },
  {
   "cell_type": "code",
   "execution_count": 57,
   "metadata": {},
   "outputs": [
    {
     "name": "stdout",
     "output_type": "stream",
     "text": [
      "(an empty 0 x 1 matrix)\n",
      "\n",
      "An object in Category of left presentations of Z\n",
      "\n"
     ]
    }
   ],
   "source": [
    "F = CAP.FreeLeftPresentation( 1, R )\n",
    "GAP.Display( F )"
   ]
  },
  {
   "cell_type": "code",
   "execution_count": 58,
   "metadata": {},
   "outputs": [
    {
     "name": "stdout",
     "output_type": "stream",
     "text": [
      "[ [  2 ] ]\n",
      "\n",
      "An object in Category of left presentations of Z\n",
      "\n"
     ]
    }
   ],
   "source": [
    "M = CAP.AsLeftPresentation( CAP.HomalgMatrix( @gap([ 2 ]), 1, 1, R ) )\n",
    "GAP.Display( M )"
   ]
  },
  {
   "cell_type": "code",
   "execution_count": 59,
   "metadata": {},
   "outputs": [
    {
     "name": "stdout",
     "output_type": "stream",
     "text": [
      "[ [  1 ] ]\n",
      "\n",
      "A morphism in Category of left presentations of Z\n",
      "\n"
     ]
    }
   ],
   "source": [
    "ϵ = CAP.PresentationMorphism(\n",
    "    F,\n",
    "    CAP.HomalgIdentityMatrix( 1, R ),\n",
    "    M\n",
    ")\n",
    "GAP.Display( ϵ )"
   ]
  },
  {
   "cell_type": "markdown",
   "metadata": {},
   "source": [
    "To check that the existence statement in the definition of \n",
    "a morphism in $\\mathrm{fpres}_R$ is satisfied, we can \n",
    "call the following command:"
   ]
  },
  {
   "cell_type": "code",
   "execution_count": 60,
   "metadata": {},
   "outputs": [
    {
     "data": {
      "text/plain": [
       "true"
      ]
     },
     "execution_count": 60,
     "metadata": {},
     "output_type": "execute_result"
    }
   ],
   "source": [
    "CAP.IsWellDefined( ϵ )"
   ]
  },
  {
   "cell_type": "markdown",
   "metadata": {},
   "source": [
    "A quicker way to create $\\epsilon$ is the following:"
   ]
  },
  {
   "cell_type": "code",
   "execution_count": 61,
   "metadata": {},
   "outputs": [
    {
     "name": "stdout",
     "output_type": "stream",
     "text": [
      "[ [  1 ] ]\n",
      "\n",
      "A morphism in Category of left presentations of Z\n",
      "\n"
     ]
    }
   ],
   "source": [
    "GAP.Display( CAP.CoverByFreeModule( M ) )"
   ]
  },
  {
   "cell_type": "markdown",
   "metadata": {},
   "source": [
    "Mathematically, the following matrix gives also rise to the morphism $\\epsilon$:"
   ]
  },
  {
   "cell_type": "code",
   "execution_count": 62,
   "metadata": {},
   "outputs": [
    {
     "name": "stdout",
     "output_type": "stream",
     "text": [
      "[ [  3 ] ]\n",
      "\n",
      "A morphism in Category of left presentations of Z\n",
      "\n"
     ]
    }
   ],
   "source": [
    "ϵ₂ = CAP.PresentationMorphism(\n",
    "    F,\n",
    "    CAP.HomalgMatrix( @gap([3]), 1, 1, R ),\n",
    "    M\n",
    ")\n",
    "GAP.Display( ϵ₂ )"
   ]
  },
  {
   "cell_type": "code",
   "execution_count": 63,
   "metadata": {},
   "outputs": [
    {
     "data": {
      "text/plain": [
       "true"
      ]
     },
     "execution_count": 63,
     "metadata": {},
     "output_type": "execute_result"
    }
   ],
   "source": [
    "CAP.IsCongruentForMorphisms( ϵ, ϵ₂ )"
   ]
  },
  {
   "cell_type": "markdown",
   "metadata": {},
   "source": [
    "However, the underlying matrices defining $\\epsilon$\n",
    "and $\\epsilon_2$ differ, which is what is asked for\n",
    "when we use the following command:"
   ]
  },
  {
   "cell_type": "code",
   "execution_count": 64,
   "metadata": {},
   "outputs": [
    {
     "data": {
      "text/plain": [
       "false"
      ]
     },
     "execution_count": 64,
     "metadata": {},
     "output_type": "execute_result"
    }
   ],
   "source": [
    "CAP.IsEqualForMorphisms( ϵ, ϵ₂ )"
   ]
  },
  {
   "cell_type": "markdown",
   "metadata": {},
   "source": [
    "So remember:\n",
    "`IsCongruentForMorphisms` is the mathematical notion of equality,\n",
    "`IsEqualForMorphisms` is the technical notion of equality.\n",
    "The latter is used for the technical specifications of CAP-operations:\n",
    "> \"equal\" input yields \"equal\" output,\n",
    "\n",
    "where the equality notion is always meant to be the technical one."
   ]
  },
  {
   "cell_type": "markdown",
   "metadata": {},
   "source": [
    "It is mainly due to the comparision theorem of projective resolutions\n",
    "and the functoriality of cokernels\n",
    "that the map\n",
    "$$\n",
    "(a_{ij})_{\\substack{i = 1, \\dots m \\\\ j = 1, \\dots n}} \\mapsto\n",
    "\\mathrm{CokernelObject}\\big( {R}^m \\stackrel{(a_{ij})_{ij}}{\\longrightarrow} {R}^n \\big)\n",
    "$$\n",
    "extends to the level of morphisms and defines a functor\n",
    "$$\n",
    "\\mathrm{fpres}_{R} \\longrightarrow \\mathrm{mod}_{R}\n",
    "$$\n",
    "that is an equivalence of categories.\n",
    "\n",
    "Moreover, $\\mathrm{mod}_{R}$\n",
    "is an abelian category and consequently so is $\\mathrm{fpres}_{R}$.\n",
    "We can use **exactly the same commands** as in the case of $\\mathrm{mat}_k$\n",
    "in order to operate in $\\mathrm{fpres}_{R}$.\n",
    "\n",
    "Here are examples:"
   ]
  },
  {
   "cell_type": "code",
   "execution_count": 65,
   "metadata": {},
   "outputs": [
    {
     "name": "stdout",
     "output_type": "stream",
     "text": [
      "[ [  2 ] ]\n",
      "\n",
      "A monomorphism in Category of left presentations of Z\n",
      "\n"
     ]
    }
   ],
   "source": [
    "GAP.Display( CAP.KernelEmbedding( ϵ ) )"
   ]
  },
  {
   "cell_type": "code",
   "execution_count": 66,
   "metadata": {},
   "outputs": [
    {
     "data": {
      "text/plain": [
       "true"
      ]
     },
     "execution_count": 66,
     "metadata": {},
     "output_type": "execute_result"
    }
   ],
   "source": [
    "CAP.IsZeroForObjects( CAP.CokernelObject( ϵ ) )"
   ]
  },
  {
   "cell_type": "code",
   "execution_count": 67,
   "metadata": {},
   "outputs": [
    {
     "name": "stdout",
     "output_type": "stream",
     "text": [
      "[ [  0,  2,  0,  0 ],\n",
      "  [  0,  0,  2,  0 ] ]\n",
      "\n",
      "An object in Category of left presentations of Z\n",
      "\n"
     ]
    }
   ],
   "source": [
    "GAP.Display( CAP.DirectSum( F, M, M, F ) )"
   ]
  },
  {
   "cell_type": "markdown",
   "metadata": {},
   "source": [
    "**Exercise 6**\n",
    "> Create a free resolution of $R/\\langle \\begin{pmatrix} 1 & 2 & 3 \\\\ 4 & 5 & 6 \\\\ 7 & 8 & 9 \\end{pmatrix} \\rangle$ in CAP."
   ]
  },
  {
   "cell_type": "code",
   "execution_count": 68,
   "metadata": {},
   "outputs": [],
   "source": [
    "# Solution of Exercise 6\n",
    "\n"
   ]
  },
  {
   "cell_type": "markdown",
   "metadata": {},
   "source": [
    "### Generic algorithms for abelian categories"
   ]
  },
  {
   "cell_type": "markdown",
   "metadata": {},
   "source": [
    "Our computational models\n",
    "$\\mathrm{mat}_k$ and $\\mathrm{fpres}_R$\n",
    "are both examples of abelian categories.\n",
    "Let us refer to a CAP operation\n",
    "that can be interpreted\n",
    "in any abelian category\n",
    "as an **abelian operation**.\n",
    "It then follows that any $\\mathsf{GAP}$ function\n",
    "that we build up only using abelian operations\n",
    "can be executed both in $\\mathrm{mat}_k$ and $\\mathrm{fpres}_R$.\n",
    "\n",
    "As an example, try out the code you wrote\n",
    "to solve Exercise 3 on the following input:"
   ]
  },
  {
   "cell_type": "code",
   "execution_count": 69,
   "metadata": {},
   "outputs": [
    {
     "data": {
      "text/plain": [
       "GAP: A morphism in Category of left presentations of Z"
      ]
     },
     "execution_count": 69,
     "metadata": {},
     "output_type": "execute_result"
    }
   ],
   "source": [
    "M = CAP.AsLeftPresentation( CAP.HomalgMatrix( @gap([ [ 2, 2, 2 ], [ 3, 0, 0 ], [ 0, 7, 0 ] ]), 3, 3, R ) )\n",
    "N = CAP.AsLeftPresentation( CAP.HomalgMatrix( @gap([ [ 2, 2, 2 ], [ 3, 0, 0 ] ]), 2, 3, R ) )\n",
    "μ₁ = CAP.CoverByFreeModule( N )\n",
    "μ₂ = CAP.CoverByFreeModule( M )\n",
    "ν₁ = CAP.PresentationMorphism( CAP.Source( μ₁ ), CAP.HomalgIdentityMatrix( 3, R ), CAP.Source( μ₂ ) )\n",
    "ν₂ = CAP.PresentationMorphism( N, CAP.HomalgIdentityMatrix( 3, R ), M )"
   ]
  },
  {
   "cell_type": "markdown",
   "metadata": {},
   "source": [
    "Did you write your code generically enough that it was not only applicable in the context\n",
    "of $\\mathrm{mat}_k$, but also in $\\mathrm{fpres}_R$?"
   ]
  },
  {
   "cell_type": "markdown",
   "metadata": {},
   "source": [
    "**Exercise 7**\n",
    "> Write generic algorithms for\n",
    "> 1. the intersection $A \\cap B$ of two subobjects $A,B \\hookrightarrow C$\n",
    "> 2. the sum $A + B$ of two subobjects $A,B \\hookrightarrow C$ \n",
    ">\n",
    "> that work in any abelian category and only uses CAP\n",
    "> commands that you have seen so far in this worksheet.\n",
    "> Note that subobjects of an object $C$ are simply modeled by monomorphisms into $C$.\n",
    "> Test your code on\n",
    "> the following examples:"
   ]
  },
  {
   "cell_type": "markdown",
   "metadata": {},
   "source": [
    "**Test case 1**\n",
    "\n",
    "Category: $\\mathrm{mat}_{\\mathbb{Q}}$"
   ]
  },
  {
   "cell_type": "code",
   "execution_count": 70,
   "metadata": {},
   "outputs": [
    {
     "name": "stdout",
     "output_type": "stream",
     "text": [
      "[ [  1,  1,  0 ],\n",
      "  [  0,  1,  1 ] ]\n",
      "\n",
      "A morphism in Category of matrices over Q\n",
      "\n",
      "[ [  1,  0,  1 ],\n",
      "  [  1,  1,  0 ] ]\n",
      "\n",
      "A morphism in Category of matrices over Q\n",
      "\n"
     ]
    }
   ],
   "source": [
    "C = CAP.VectorSpaceObject( 3, QQ )\n",
    "\n",
    "A = CAP.VectorSpaceMorphism(\n",
    "    CAP.VectorSpaceObject( 2, QQ ),\n",
    "    CAP.HomalgMatrix( @gap([1,1,0, 0,1,1]), 2, 3, QQ ), \n",
    "    C\n",
    ")\n",
    "\n",
    "B = CAP.VectorSpaceMorphism(\n",
    "    CAP.VectorSpaceObject( 2, QQ ),\n",
    "    CAP.HomalgMatrix( @gap([1,0,1, 1,1,0]), 2, 3, QQ ), \n",
    "    C\n",
    ")\n",
    "\n",
    "GAP.Display( A )\n",
    "GAP.Display( B )"
   ]
  },
  {
   "cell_type": "markdown",
   "metadata": {},
   "source": [
    "**Test case 2**\n",
    "\n",
    "Category: $\\mathrm{fpres}_{R}$"
   ]
  },
  {
   "cell_type": "code",
   "execution_count": 71,
   "metadata": {},
   "outputs": [
    {
     "name": "stdout",
     "output_type": "stream",
     "text": [
      "[ [  42 ] ]\n",
      "\n",
      "A morphism in Category of left presentations of Z\n",
      "\n",
      "[ [  63 ] ]\n",
      "\n",
      "A morphism in Category of left presentations of Z\n",
      "\n"
     ]
    }
   ],
   "source": [
    "A = CAP.AsMorphismBetweenFreeLeftPresentations(\n",
    "    CAP.HomalgMatrix( @gap([42]), 1, 1, R )\n",
    ")\n",
    "\n",
    "B = CAP.AsMorphismBetweenFreeLeftPresentations(\n",
    "    CAP.HomalgMatrix( @gap([63]), 1, 1, R )\n",
    ")\n",
    "\n",
    "GAP.Display( A )\n",
    "GAP.Display( B )"
   ]
  },
  {
   "cell_type": "code",
   "execution_count": 72,
   "metadata": {},
   "outputs": [],
   "source": [
    "# Solution of Exercise 7\n",
    "\n"
   ]
  }
 ],
 "metadata": {
  "@webio": {
   "lastCommId": "dfc2d92a0b944907b19ea4d74b4e910b",
   "lastKernelId": "7d11f3c4-2af9-4721-9b01-c9baeec73240"
  },
  "kernelspec": {
   "display_name": "Julia 1.1.0",
   "language": "julia",
   "name": "julia-1.1"
  },
  "language_info": {
   "file_extension": ".jl",
   "mimetype": "application/julia",
   "name": "julia",
   "version": "1.1.0"
  }
 },
 "nbformat": 4,
 "nbformat_minor": 2
}
