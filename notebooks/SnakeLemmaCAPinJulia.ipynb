{
 "cells": [
  {
   "cell_type": "code",
   "execution_count": 1,
   "metadata": {},
   "outputs": [
    {
     "name": "stdout",
     "output_type": "stream",
     "text": [
      "Adding path /home/seb/gap_current/gap/.libs to DL_LOAD_PATH\n",
      " ┌───────┐   GAP 4.dev of today\n",
      " │  GAP  │   https://www.gap-system.org\n",
      " └───────┘   Architecture: x86_64-pc-linux-gnu-julia64-kv6\n",
      " Configuration:  gmp 6.1.2, Julia GC, Julia 1.1.0, readline\n",
      " Loading the library and packages ...\n",
      " Packages:   GAPDoc 1.6.2, PrimGrp 3.3.2, SmallGrp 1.3, TransGrp 2.0.4\n",
      " Try '??help' for help. See also '?copyright', '?cite' and '?authors'\n"
     ]
    }
   ],
   "source": [
    "using GAP"
   ]
  },
  {
   "cell_type": "code",
   "execution_count": 2,
   "metadata": {},
   "outputs": [
    {
     "name": "stdout",
     "output_type": "stream",
     "text": [
      "\r"
     ]
    }
   ],
   "source": [
    "try\n",
    "    GAP.LoadPackageAndExposeGlobals( \"LinearAlgebraForCAP\", \"CAP\", all_globals = true )\n",
    "catch(e)\n",
    "    GAP.LoadPackageAndExposeGlobals( \"LinearAlgebraForCAP\", \"CAP\", all_globals = true )\n",
    "end"
   ]
  },
  {
   "cell_type": "code",
   "execution_count": 3,
   "metadata": {},
   "outputs": [],
   "source": [
    "GAP.LoadPackageAndExposeGlobals( \"ModulePresentationsForCAP\", CAP )"
   ]
  },
  {
   "cell_type": "code",
   "execution_count": 4,
   "metadata": {},
   "outputs": [],
   "source": [
    "GAP.LoadPackageAndExposeGlobals( \"GeneralizedMorphismsForCAP\", CAP )"
   ]
  },
  {
   "cell_type": "markdown",
   "metadata": {},
   "source": [
    "$$\n",
    "\\require{AMScd}\n",
    "\\minCDarrowwidth55pt\n",
    "\\minCDarrowheight35pt\n",
    "\\begin{CD}\n",
    "@. @. @. \\mathrm{ker}(\\gamma)\\\\\n",
    "@. @. @. @VV{\\iota}V\\\\\n",
    "@. R^2 @>{\\delta := \\left( \\begin{array}{cc} 1& 0 \\\\0 & 0 \\end{array} \\right)}>> R^2 @>{\\epsilon}>> \\mathrm{coker}(\\delta) @>>> 0\\\\\n",
    "@. @V{\\alpha}VV @V{\\beta := \\left( \\begin{array}{ccc} 2& 4& 0 \\\\3 & 5 & 0 \\end{array} \\right)}VV @V{\\gamma}VV\\\\\n",
    "0 @>>> \\mathrm{ker(\\lambda)} @>>{\\mu}> R^3 @>>{\\lambda := \\left( \\begin{array}{c} 0\\\\ 0\\\\ 1 \\end{array} \\right)}> R^1\\\\\n",
    "@. @V{\\pi}VV @. @.\\\\\n",
    "@. \\mathrm{coker}(\\alpha) @. @. \\\\\n",
    "\\end{CD}\n",
    "$$"
   ]
  },
  {
   "cell_type": "code",
   "execution_count": 5,
   "metadata": {},
   "outputs": [
    {
     "data": {
      "text/plain": [
       "snake_lemma_morphism (generic function with 1 method)"
      ]
     },
     "execution_count": 5,
     "metadata": {},
     "output_type": "execute_result"
    }
   ],
   "source": [
    "function snake_lemma_morphism( δ, β, λ )\n",
    "    \n",
    "    γ = CAP.CokernelColift( δ, CAP.PreCompose( β, λ ) )\n",
    "    ι = CAP.KernelEmbedding( γ )\n",
    "    ε = CAP.CokernelProjection( δ )\n",
    "    μ = CAP.KernelEmbedding( λ )\n",
    "    α = CAP.KernelLift( λ, CAP.PreCompose( δ, β ) )\n",
    "    π = CAP.CokernelProjection( α )\n",
    "    \n",
    "    snake = CAP.PreCompose(\n",
    "        GAP.julia_to_gap(\n",
    "            [\n",
    "                CAP.AsGeneralizedMorphism( ι )\n",
    "                CAP.PseudoInverse( CAP.AsGeneralizedMorphism( ε ) )\n",
    "                CAP.AsGeneralizedMorphism( β )\n",
    "                CAP.PseudoInverse( CAP.AsGeneralizedMorphism( μ ) )\n",
    "                CAP.AsGeneralizedMorphism( π )\n",
    "            ]\n",
    "        )\n",
    "    )\n",
    "    \n",
    "    CAP.HonestRepresentative( snake )\n",
    "    \n",
    "end"
   ]
  },
  {
   "cell_type": "code",
   "execution_count": 6,
   "metadata": {},
   "outputs": [
    {
     "name": "stdout",
     "output_type": "stream",
     "text": [
      "─────────────────────────────────────────────────────────────────────────────\n",
      "Loading  Gauss 2018.09.08 (Extended Gauss functionality for GAP)\n",
      "by Simon Goertzen (http://wwwb.math.rwth-aachen.de/goertzen).\n",
      "maintained by:\n",
      "   Mohamed Barakat (http://wwwb.math.rwth-aachen.de/~barakat/) and\n",
      "   Sebastian Gutsche (http://wwwb.math.rwth-aachen.de/~gutsche/).\n",
      "Homepage: http://homalg-project.github.io/homalg_project/Gauss/\n",
      "─────────────────────────────────────────────────────────────────────────────\n",
      "─────────────────────────────────────────────────────────────────────────────\n",
      "Loading  GaussForHomalg 2018.06.01 (Gauss functionality for the homalg project)\n",
      "by Simon Goertzen (http://wwwb.math.rwth-aachen.de/goertzen).\n",
      "maintained by:\n",
      "   Mohamed Barakat (http://www.mathematik.uni-kl.de/~barakat/).\n",
      "Homepage: http://homalg-project.github.io/homalg_project/GaussForHomalg/\n",
      "─────────────────────────────────────────────────────────────────────────────\n"
     ]
    }
   ],
   "source": [
    "QQ = CAP.HomalgFieldOfRationals()\n",
    "\n",
    "V1 = CAP.VectorSpaceObject( 1, QQ )\n",
    "V2 = CAP.VectorSpaceObject( 2, QQ )\n",
    "V3 = CAP.VectorSpaceObject( 3, QQ )\n",
    "\n",
    "δ_matrix = @gap [ 1, 0, 0, 0 ]\n",
    "δ = CAP.VectorSpaceMorphism( V2, CAP.HomalgMatrix( δ_matrix, 2, 2, QQ ), V2 )\n",
    "\n",
    "β_matrix = @gap [ 2, 4, 0, 3, 5, 0 ]\n",
    "β = CAP.VectorSpaceMorphism( V2, CAP.HomalgMatrix( β_matrix, 2, 3, QQ ), V3 )\n",
    "\n",
    "\n",
    "λ_matrix = @gap [ 0, 0, 1 ]\n",
    "λ = CAP.VectorSpaceMorphism( V3, CAP.HomalgMatrix( λ_matrix, 3, 1, QQ ), V1 );"
   ]
  },
  {
   "cell_type": "code",
   "execution_count": 7,
   "metadata": {},
   "outputs": [
    {
     "name": "stdout",
     "output_type": "stream",
     "text": [
      "[ [  -1 ] ]\n",
      "\n",
      "A morphism in Category of matrices over Q\n",
      "\n"
     ]
    }
   ],
   "source": [
    "snake = snake_lemma_morphism( δ, β, λ )\n",
    "GAP.Display( snake )"
   ]
  },
  {
   "cell_type": "code",
   "execution_count": 8,
   "metadata": {},
   "outputs": [],
   "source": [
    "ZZ = CAP.HomalgRingOfIntegers()\n",
    "A1 = CAP.FreeLeftPresentation( 1, ZZ )\n",
    "A2 = CAP.FreeLeftPresentation( 2, ZZ )\n",
    "A3 = CAP.FreeLeftPresentation( 3, ZZ )\n",
    "\n",
    "δ = CAP.PresentationMorphism( A2, CAP.HomalgMatrix( δ_matrix, 2, 2, ZZ ), A2 )\n",
    "\n",
    "β = CAP.PresentationMorphism( A2, CAP.HomalgMatrix( β_matrix, 2, 3, ZZ ), A3 )\n",
    "\n",
    "λ = CAP.PresentationMorphism( A3, CAP.HomalgMatrix( λ_matrix, 3, 1, ZZ ), A1 );"
   ]
  },
  {
   "cell_type": "code",
   "execution_count": 9,
   "metadata": {},
   "outputs": [
    {
     "name": "stdout",
     "output_type": "stream",
     "text": [
      "[ [  -3,   1 ] ]\n",
      "\n",
      "A morphism in Category of left presentations of Z\n",
      "\n"
     ]
    }
   ],
   "source": [
    "snake = snake_lemma_morphism( δ, β, λ )\n",
    "GAP.Display( snake )"
   ]
  },
  {
   "cell_type": "code",
   "execution_count": 10,
   "metadata": {},
   "outputs": [
    {
     "name": "stdout",
     "output_type": "stream",
     "text": [
      "(an empty 0 x 1 matrix)\n",
      "\n",
      "An object in Category of left presentations of Z\n",
      "\n"
     ]
    }
   ],
   "source": [
    "GAP.Display( CAP.Source( snake ) )"
   ]
  },
  {
   "cell_type": "code",
   "execution_count": 11,
   "metadata": {},
   "outputs": [
    {
     "name": "stdout",
     "output_type": "stream",
     "text": [
      "[ [   4,  -2 ],\n",
      "  [   0,   0 ] ]\n",
      "\n",
      "An object in Category of left presentations of Z\n",
      "\n"
     ]
    }
   ],
   "source": [
    "GAP.Display( CAP.Range( snake ) )"
   ]
  },
  {
   "cell_type": "code",
   "execution_count": null,
   "metadata": {},
   "outputs": [],
   "source": []
  }
 ],
 "metadata": {
  "@webio": {
   "lastCommId": "b80027aa73ec405f853fcddf3be7aedc",
   "lastKernelId": "fce2609d-6724-4fd1-b261-760b05b213c6"
  },
  "kernelspec": {
   "display_name": "Julia 1.1.0",
   "language": "julia",
   "name": "julia-1.1"
  },
  "language_info": {
   "file_extension": ".jl",
   "mimetype": "application/julia",
   "name": "julia",
   "version": "1.1.0"
  }
 },
 "nbformat": 4,
 "nbformat_minor": 2
}
