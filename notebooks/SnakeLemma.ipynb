{
 "cells": [
  {
   "cell_type": "code",
   "execution_count": 1,
   "metadata": {},
   "outputs": [
    {
     "data": {
      "text/plain": [
       "true"
      ]
     },
     "execution_count": 1,
     "metadata": {
      "text/plain": ""
     },
     "output_type": "execute_result"
    }
   ],
   "source": [
    "LoadPackage( \"LinearAlgebraForCAP\" );"
   ]
  },
  {
   "cell_type": "code",
   "execution_count": 2,
   "metadata": {},
   "outputs": [
    {
     "data": {
      "text/plain": [
       "true"
      ]
     },
     "execution_count": 2,
     "metadata": {
      "text/plain": ""
     },
     "output_type": "execute_result"
    }
   ],
   "source": [
    "LoadPackage( \"GeneralizedMorphismsForCAP\" );"
   ]
  },
  {
   "cell_type": "markdown",
   "metadata": {},
   "source": [
    "$$\n",
    "\\require{AMScd}\n",
    "\\minCDarrowwidth55pt\n",
    "\\minCDarrowheight35pt\n",
    "\\begin{CD}\n",
    "@. @. @. \\mathrm{ker}(\\gamma)\\\\\n",
    "@. @. @. @VV{\\iota}V\\\\\n",
    "@. R^2 @>{\\delta := \\left( \\begin{array}{cc} 1& 0 \\\\0 & 0 \\end{array} \\right)}>> R^2 @>{\\epsilon}>> \\mathrm{coker}(\\delta) @>>> 0\\\\\n",
    "@. @V{\\alpha}VV @V{\\beta := \\left( \\begin{array}{ccc} 2& 4& 0 \\\\3 & 5 & 0 \\end{array} \\right)}VV @V{\\gamma}VV\\\\\n",
    "0 @>>> \\mathrm{ker(\\lambda)} @>>{\\mu}> R^3 @>>{\\lambda := \\left( \\begin{array}{c} 0\\\\ 0\\\\ 1 \\end{array} \\right)}> R^1\\\\\n",
    "@. @V{\\pi}VV @. @.\\\\\n",
    "@. \\mathrm{coker}(\\alpha) @. @. \\\\\n",
    "\\end{CD}\n",
    "$$"
   ]
  },
  {
   "cell_type": "markdown",
   "metadata": {},
   "source": [
    "\n"
   ]
  },
  {
   "cell_type": "code",
   "execution_count": 3,
   "metadata": {},
   "outputs": [
    {
     "data": {
      "text/plain": [
       "function( delta, beta, lambda ) ... end"
      ]
     },
     "execution_count": 3,
     "metadata": {
      "text/plain": ""
     },
     "output_type": "execute_result"
    }
   ],
   "source": [
    "snake_lemma_morphism := function( delta, beta, lambda )\n",
    "    local gamma, iota, epsilon, mu, alpha, pi, snake;\n",
    "    \n",
    "    gamma := CokernelColift( delta, PreCompose( beta, lambda ) );\n",
    "    iota := KernelEmbedding( gamma );\n",
    "    epsilon := CokernelProjection( delta );\n",
    "    mu := KernelEmbedding( lambda );\n",
    "    alpha := KernelLift( lambda, PreCompose( delta, beta ) );\n",
    "    pi := CokernelProjection( alpha );\n",
    "    \n",
    "    snake := PreCompose(\n",
    "        [\n",
    "            AsGeneralizedMorphism( iota ),\n",
    "            PseudoInverse( AsGeneralizedMorphism( epsilon ) ),\n",
    "            AsGeneralizedMorphism( beta ),\n",
    "            PseudoInverse( AsGeneralizedMorphism( mu ) ),\n",
    "            AsGeneralizedMorphism( pi )\n",
    "        ]\n",
    "    );\n",
    "    \n",
    "    return HonestRepresentative( snake );\n",
    "    \n",
    "end;"
   ]
  },
  {
   "cell_type": "code",
   "execution_count": 4,
   "metadata": {},
   "outputs": [
    {
     "data": {
      "text/plain": [
       "<field in characteristic 0>"
      ]
     },
     "execution_count": 4,
     "metadata": {
      "text/plain": ""
     },
     "output_type": "execute_result"
    }
   ],
   "source": [
    "QQ := HomalgFieldOfRationals();"
   ]
  },
  {
   "cell_type": "code",
   "execution_count": 7,
   "metadata": {},
   "outputs": [
    {
     "data": {
      "text/plain": [
       "<An object in Category of matrices over Q>"
      ]
     },
     "execution_count": 5,
     "metadata": {
      "text/plain": ""
     },
     "output_type": "execute_result"
    },
    {
     "data": {
      "text/plain": [
       "<An object in Category of matrices over Q>"
      ]
     },
     "execution_count": 6,
     "metadata": {
      "text/plain": ""
     },
     "output_type": "execute_result"
    },
    {
     "data": {
      "text/plain": [
       "<An object in Category of matrices over Q>"
      ]
     },
     "execution_count": 7,
     "metadata": {
      "text/plain": ""
     },
     "output_type": "execute_result"
    }
   ],
   "source": [
    "V1 := VectorSpaceObject( 1, QQ );\n",
    "V2 := VectorSpaceObject( 2, QQ );\n",
    "V3 := VectorSpaceObject( 3, QQ );"
   ]
  },
  {
   "cell_type": "code",
   "execution_count": 9,
   "metadata": {},
   "outputs": [
    {
     "data": {
      "text/plain": [
       "<A morphism in Category of matrices over Q>"
      ]
     },
     "execution_count": 9,
     "metadata": {
      "text/plain": ""
     },
     "output_type": "execute_result"
    }
   ],
   "source": [
    "delta_matrix := [ [ 1, 0 ], [ 0, 0 ] ];;\n",
    "\n",
    "delta := VectorSpaceMorphism( V2, HomalgMatrix( delta_matrix, 2, 2, QQ ), V2 );"
   ]
  },
  {
   "cell_type": "code",
   "execution_count": 11,
   "metadata": {},
   "outputs": [
    {
     "data": {
      "text/plain": [
       "<A morphism in Category of matrices over Q>"
      ]
     },
     "execution_count": 11,
     "metadata": {
      "text/plain": ""
     },
     "output_type": "execute_result"
    }
   ],
   "source": [
    "beta_matrix := [ [ 2, 4, 0 ], [ 3, 5, 0 ] ];;\n",
    "\n",
    "beta := VectorSpaceMorphism( V2, HomalgMatrix( beta_matrix, 2, 3, QQ ), V3 );"
   ]
  },
  {
   "cell_type": "code",
   "execution_count": 13,
   "metadata": {},
   "outputs": [
    {
     "data": {
      "text/plain": [
       "<A morphism in Category of matrices over Q>"
      ]
     },
     "execution_count": 13,
     "metadata": {
      "text/plain": ""
     },
     "output_type": "execute_result"
    }
   ],
   "source": [
    "lambda_matrix := [ [ 0 ], [ 0 ], [ 1 ] ];;\n",
    "\n",
    "lambda := VectorSpaceMorphism( V3, HomalgMatrix( lambda_matrix, 3, 1, QQ ), V1 );"
   ]
  },
  {
   "cell_type": "code",
   "execution_count": 14,
   "metadata": {},
   "outputs": [
    {
     "data": {
      "text/plain": [
       "<A morphism in Category of matrices over Q>"
      ]
     },
     "execution_count": 14,
     "metadata": {
      "text/plain": ""
     },
     "output_type": "execute_result"
    }
   ],
   "source": [
    "snake := snake_lemma_morphism( delta, beta, lambda );"
   ]
  },
  {
   "cell_type": "code",
   "execution_count": 15,
   "metadata": {},
   "outputs": [
    {
     "name": "stdout",
     "output_type": "stream",
     "text": [
      "[ [  -1 ] ]\n",
      "\n",
      "A morphism in Category of matrices over Q\n"
     ]
    }
   ],
   "source": [
    "Display( snake );"
   ]
  },
  {
   "cell_type": "code",
   "execution_count": 16,
   "metadata": {},
   "outputs": [
    {
     "data": {
      "text/plain": [
       "true"
      ]
     },
     "execution_count": 16,
     "metadata": {
      "text/plain": ""
     },
     "output_type": "execute_result"
    }
   ],
   "source": [
    "LoadPackage( \"ModulePresentationsForCAP\" );"
   ]
  },
  {
   "cell_type": "code",
   "execution_count": 20,
   "metadata": {},
   "outputs": [
    {
     "data": {
      "text/plain": [
       "<An object in Category of left presentations of Z>"
      ]
     },
     "execution_count": 18,
     "metadata": {
      "text/plain": ""
     },
     "output_type": "execute_result"
    },
    {
     "data": {
      "text/plain": [
       "<An object in Category of left presentations of Z>"
      ]
     },
     "execution_count": 19,
     "metadata": {
      "text/plain": ""
     },
     "output_type": "execute_result"
    },
    {
     "data": {
      "text/plain": [
       "<An object in Category of left presentations of Z>"
      ]
     },
     "execution_count": 20,
     "metadata": {
      "text/plain": ""
     },
     "output_type": "execute_result"
    }
   ],
   "source": [
    "ZZ := HomalgRingOfIntegers();;\n",
    "A1 := FreeLeftPresentation( 1, ZZ );\n",
    "A2 := FreeLeftPresentation( 2, ZZ );\n",
    "A3 := FreeLeftPresentation( 3, ZZ );"
   ]
  },
  {
   "cell_type": "code",
   "execution_count": 21,
   "metadata": {},
   "outputs": [
    {
     "data": {
      "text/plain": [
       "<A morphism in Category of left presentations of Z>"
      ]
     },
     "execution_count": 21,
     "metadata": {
      "text/plain": ""
     },
     "output_type": "execute_result"
    }
   ],
   "source": [
    "delta := PresentationMorphism( A2, HomalgMatrix( delta_matrix, 2, 2, ZZ ), A2 );"
   ]
  },
  {
   "cell_type": "code",
   "execution_count": 22,
   "metadata": {},
   "outputs": [
    {
     "data": {
      "text/plain": [
       "<A morphism in Category of left presentations of Z>"
      ]
     },
     "execution_count": 22,
     "metadata": {
      "text/plain": ""
     },
     "output_type": "execute_result"
    }
   ],
   "source": [
    "beta := PresentationMorphism( A2, HomalgMatrix( beta_matrix, 2, 3, ZZ ), A3 );"
   ]
  },
  {
   "cell_type": "code",
   "execution_count": 23,
   "metadata": {},
   "outputs": [
    {
     "data": {
      "text/plain": [
       "<A morphism in Category of left presentations of Z>"
      ]
     },
     "execution_count": 23,
     "metadata": {
      "text/plain": ""
     },
     "output_type": "execute_result"
    }
   ],
   "source": [
    "lambda := PresentationMorphism( A3, HomalgMatrix( lambda_matrix, 2, 2, ZZ ), A1 );"
   ]
  },
  {
   "cell_type": "code",
   "execution_count": 24,
   "metadata": {},
   "outputs": [
    {
     "data": {
      "text/plain": [
       "<A morphism in Category of left presentations of Z>"
      ]
     },
     "execution_count": 24,
     "metadata": {
      "text/plain": ""
     },
     "output_type": "execute_result"
    }
   ],
   "source": [
    "snake := snake_lemma_morphism( delta, beta, lambda );"
   ]
  },
  {
   "cell_type": "code",
   "execution_count": 25,
   "metadata": {},
   "outputs": [
    {
     "name": "stdout",
     "output_type": "stream",
     "text": [
      "[ [  -3,   1 ] ]\n",
      "\n",
      "A morphism in Category of left presentations of Z\n"
     ]
    }
   ],
   "source": [
    "Display( snake );"
   ]
  },
  {
   "cell_type": "code",
   "execution_count": 26,
   "metadata": {},
   "outputs": [
    {
     "name": "stdout",
     "output_type": "stream",
     "text": [
      "(an empty 0 x 1 matrix)\n",
      "\n",
      "An object in Category of left presentations of Z\n"
     ]
    }
   ],
   "source": [
    "Display( Source( snake ) );"
   ]
  },
  {
   "cell_type": "code",
   "execution_count": 27,
   "metadata": {},
   "outputs": [
    {
     "name": "stdout",
     "output_type": "stream",
     "text": [
      "[ [   4,  -2 ],\n",
      "  [   0,   0 ] ]\n",
      "\n",
      "An object in Category of left presentations of Z\n"
     ]
    }
   ],
   "source": [
    "Display( Range( snake ) );"
   ]
  }
 ],
 "metadata": {
  "kernelspec": {
   "display_name": "GAP 4 (native)",
   "language": "gap",
   "name": "gap-native"
  },
  "language_info": {
   "codemirror_mode": "gap",
   "file_extension": ".g",
   "mimetype": "text/x-gap",
   "name": "GAP (native)",
   "nbconvert_exporter": "",
   "pygments_lexer": "gap",
   "version": "4.dev"
  }
 },
 "nbformat": 4,
 "nbformat_minor": 2
}
